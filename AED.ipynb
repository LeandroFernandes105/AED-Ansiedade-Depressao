{
 "cells": [
  {
   "cell_type": "code",
   "execution_count": 1,
   "metadata": {
    "executionInfo": {
     "elapsed": 1520,
     "status": "ok",
     "timestamp": 1743383325170,
     "user": {
      "displayName": "Leandro Fernandes",
      "userId": "07469546857901237394"
     },
     "user_tz": 180
    },
    "id": "zXCn2DwAkj4D"
   },
   "outputs": [],
   "source": [
    "import pandas as pd\n",
    "import numpy as np\n",
    "import matplotlib.pyplot as plt\n",
    "import seaborn as sns\n",
    "sns.set()"
   ]
  },
  {
   "cell_type": "code",
   "execution_count": 2,
   "metadata": {
    "colab": {
     "base_uri": "https://localhost:8080/",
     "height": 255
    },
    "executionInfo": {
     "elapsed": 101,
     "status": "ok",
     "timestamp": 1743383326123,
     "user": {
      "displayName": "Leandro Fernandes",
      "userId": "07469546857901237394"
     },
     "user_tz": 180
    },
    "id": "NERkRwcbka2A",
    "outputId": "51bf8908-920a-41dc-9b96-ca5723e8cb56"
   },
   "outputs": [
    {
     "data": {
      "text/html": [
       "<div>\n",
       "<style scoped>\n",
       "    .dataframe tbody tr th:only-of-type {\n",
       "        vertical-align: middle;\n",
       "    }\n",
       "\n",
       "    .dataframe tbody tr th {\n",
       "        vertical-align: top;\n",
       "    }\n",
       "\n",
       "    .dataframe thead th {\n",
       "        text-align: right;\n",
       "    }\n",
       "</style>\n",
       "<table border=\"1\" class=\"dataframe\">\n",
       "  <thead>\n",
       "    <tr style=\"text-align: right;\">\n",
       "      <th></th>\n",
       "      <th>Age</th>\n",
       "      <th>Gender</th>\n",
       "      <th>Education_Level</th>\n",
       "      <th>Employment_Status</th>\n",
       "      <th>Sleep_Hours</th>\n",
       "      <th>Physical_Activity_Hrs</th>\n",
       "      <th>Social_Support_Score</th>\n",
       "      <th>Anxiety_Score</th>\n",
       "      <th>Depression_Score</th>\n",
       "      <th>Stress_Level</th>\n",
       "      <th>...</th>\n",
       "      <th>Chronic_Illnesses</th>\n",
       "      <th>Medication_Use</th>\n",
       "      <th>Therapy</th>\n",
       "      <th>Meditation</th>\n",
       "      <th>Substance_Use</th>\n",
       "      <th>Financial_Stress</th>\n",
       "      <th>Work_Stress</th>\n",
       "      <th>Self_Esteem_Score</th>\n",
       "      <th>Life_Satisfaction_Score</th>\n",
       "      <th>Loneliness_Score</th>\n",
       "    </tr>\n",
       "  </thead>\n",
       "  <tbody>\n",
       "    <tr>\n",
       "      <th>0</th>\n",
       "      <td>56</td>\n",
       "      <td>Male</td>\n",
       "      <td>Bachelor's</td>\n",
       "      <td>Unemployed</td>\n",
       "      <td>6.0</td>\n",
       "      <td>0.4</td>\n",
       "      <td>3</td>\n",
       "      <td>4</td>\n",
       "      <td>2</td>\n",
       "      <td>9</td>\n",
       "      <td>...</td>\n",
       "      <td>0</td>\n",
       "      <td>NaN</td>\n",
       "      <td>0</td>\n",
       "      <td>1</td>\n",
       "      <td>NaN</td>\n",
       "      <td>4</td>\n",
       "      <td>3</td>\n",
       "      <td>7</td>\n",
       "      <td>5</td>\n",
       "      <td>1</td>\n",
       "    </tr>\n",
       "    <tr>\n",
       "      <th>1</th>\n",
       "      <td>69</td>\n",
       "      <td>Female</td>\n",
       "      <td>Bachelor's</td>\n",
       "      <td>Retired</td>\n",
       "      <td>8.8</td>\n",
       "      <td>2.8</td>\n",
       "      <td>6</td>\n",
       "      <td>18</td>\n",
       "      <td>7</td>\n",
       "      <td>6</td>\n",
       "      <td>...</td>\n",
       "      <td>0</td>\n",
       "      <td>NaN</td>\n",
       "      <td>1</td>\n",
       "      <td>0</td>\n",
       "      <td>NaN</td>\n",
       "      <td>1</td>\n",
       "      <td>4</td>\n",
       "      <td>7</td>\n",
       "      <td>4</td>\n",
       "      <td>6</td>\n",
       "    </tr>\n",
       "    <tr>\n",
       "      <th>2</th>\n",
       "      <td>46</td>\n",
       "      <td>Female</td>\n",
       "      <td>Master's</td>\n",
       "      <td>Employed</td>\n",
       "      <td>5.3</td>\n",
       "      <td>1.6</td>\n",
       "      <td>5</td>\n",
       "      <td>5</td>\n",
       "      <td>13</td>\n",
       "      <td>8</td>\n",
       "      <td>...</td>\n",
       "      <td>0</td>\n",
       "      <td>NaN</td>\n",
       "      <td>0</td>\n",
       "      <td>1</td>\n",
       "      <td>NaN</td>\n",
       "      <td>8</td>\n",
       "      <td>7</td>\n",
       "      <td>8</td>\n",
       "      <td>1</td>\n",
       "      <td>1</td>\n",
       "    </tr>\n",
       "    <tr>\n",
       "      <th>3</th>\n",
       "      <td>32</td>\n",
       "      <td>Female</td>\n",
       "      <td>High School</td>\n",
       "      <td>Unemployed</td>\n",
       "      <td>8.8</td>\n",
       "      <td>0.5</td>\n",
       "      <td>4</td>\n",
       "      <td>6</td>\n",
       "      <td>3</td>\n",
       "      <td>4</td>\n",
       "      <td>...</td>\n",
       "      <td>1</td>\n",
       "      <td>NaN</td>\n",
       "      <td>0</td>\n",
       "      <td>0</td>\n",
       "      <td>NaN</td>\n",
       "      <td>7</td>\n",
       "      <td>4</td>\n",
       "      <td>8</td>\n",
       "      <td>4</td>\n",
       "      <td>4</td>\n",
       "    </tr>\n",
       "    <tr>\n",
       "      <th>4</th>\n",
       "      <td>60</td>\n",
       "      <td>Female</td>\n",
       "      <td>Bachelor's</td>\n",
       "      <td>Retired</td>\n",
       "      <td>7.2</td>\n",
       "      <td>0.7</td>\n",
       "      <td>2</td>\n",
       "      <td>7</td>\n",
       "      <td>15</td>\n",
       "      <td>3</td>\n",
       "      <td>...</td>\n",
       "      <td>0</td>\n",
       "      <td>NaN</td>\n",
       "      <td>1</td>\n",
       "      <td>1</td>\n",
       "      <td>Frequent</td>\n",
       "      <td>8</td>\n",
       "      <td>9</td>\n",
       "      <td>5</td>\n",
       "      <td>7</td>\n",
       "      <td>7</td>\n",
       "    </tr>\n",
       "  </tbody>\n",
       "</table>\n",
       "<p>5 rows × 21 columns</p>\n",
       "</div>"
      ],
      "text/plain": [
       "   Age  Gender Education_Level Employment_Status  Sleep_Hours  \\\n",
       "0   56    Male      Bachelor's        Unemployed          6.0   \n",
       "1   69  Female      Bachelor's           Retired          8.8   \n",
       "2   46  Female        Master's          Employed          5.3   \n",
       "3   32  Female     High School        Unemployed          8.8   \n",
       "4   60  Female      Bachelor's           Retired          7.2   \n",
       "\n",
       "   Physical_Activity_Hrs  Social_Support_Score  Anxiety_Score  \\\n",
       "0                    0.4                     3              4   \n",
       "1                    2.8                     6             18   \n",
       "2                    1.6                     5              5   \n",
       "3                    0.5                     4              6   \n",
       "4                    0.7                     2              7   \n",
       "\n",
       "   Depression_Score  Stress_Level  ...  Chronic_Illnesses  Medication_Use  \\\n",
       "0                 2             9  ...                  0             NaN   \n",
       "1                 7             6  ...                  0             NaN   \n",
       "2                13             8  ...                  0             NaN   \n",
       "3                 3             4  ...                  1             NaN   \n",
       "4                15             3  ...                  0             NaN   \n",
       "\n",
       "  Therapy  Meditation  Substance_Use Financial_Stress  Work_Stress  \\\n",
       "0       0           1            NaN                4            3   \n",
       "1       1           0            NaN                1            4   \n",
       "2       0           1            NaN                8            7   \n",
       "3       0           0            NaN                7            4   \n",
       "4       1           1       Frequent                8            9   \n",
       "\n",
       "   Self_Esteem_Score  Life_Satisfaction_Score  Loneliness_Score  \n",
       "0                  7                        5                 1  \n",
       "1                  7                        4                 6  \n",
       "2                  8                        1                 1  \n",
       "3                  8                        4                 4  \n",
       "4                  5                        7                 7  \n",
       "\n",
       "[5 rows x 21 columns]"
      ]
     },
     "execution_count": 2,
     "metadata": {},
     "output_type": "execute_result"
    }
   ],
   "source": [
    "# Carregar o arquivo CSV\n",
    "df = pd.read_csv('anxiety_depression_data.csv')\n",
    "\n",
    "# Exibir as primeiras linhas do DataFrame\n",
    "df.head()"
   ]
  },
  {
   "cell_type": "code",
   "execution_count": 3,
   "metadata": {},
   "outputs": [],
   "source": [
    "df1=df.copy()\n",
    "#Copia do dataframe original\n"
   ]
  },
  {
   "cell_type": "markdown",
   "metadata": {
    "id": "fABNNOSzvdqN"
   },
   "source": [
    "##Sumário\n",
    "* Gender - Genero da pessoa\n",
    "* Education_Level - nível de escolaridade da pessoa    \n",
    "* Employment_Status - Status de Emprego, se está trablhando ou não  \n",
    "* Sleep_Hours -quantidade de horas diarias dormidas\n",
    "* Physical_Activity_Hrs – Horas de Atividade Física\n",
    "* Social_Support_Score – Pontuação de Suporte Social\n",
    "* Anxiety_Score – Pontuação de Ansiedade\n",
    "* Depression_Score – Pontuação de Depressão\n",
    "* Stress_Level – Nível de Estresse\n",
    "* Family_History_Mental_Illness – Histórico Familiar de Doença Mental\n",
    "* Chronic_Illnesses – Doenças Crônicas\n",
    "* Medication_Use – Uso de Medicamentos\n",
    "* Therapy – Terapia\n",
    "* Meditation – Meditação\n",
    "* Substance_Use – Uso de Substâncias\n",
    "* Financial_Stress – Estresse Financeiro\n",
    "* Work_Stress – Estresse no Trabalho\n",
    "* Self_Esteem_Score – Pontuação de Autoestima\n",
    "* Life_Satisfaction_Score – Pontuação de Satisfação com a Vida\n",
    "* Loneliness_Score – Pontuação de Solidão\n",
    "\n",
    "\n",
    "\n"
   ]
  },
  {
   "cell_type": "code",
   "execution_count": 4,
   "metadata": {
    "colab": {
     "base_uri": "https://localhost:8080/"
    },
    "executionInfo": {
     "elapsed": 17,
     "status": "ok",
     "timestamp": 1743383328533,
     "user": {
      "displayName": "Leandro Fernandes",
      "userId": "07469546857901237394"
     },
     "user_tz": 180
    },
    "id": "b82exO2oUbJs",
    "outputId": "11d6181b-ebaf-4a0b-bd1e-813b7dd3b1ec"
   },
   "outputs": [
    {
     "name": "stdout",
     "output_type": "stream",
     "text": [
      "<class 'pandas.core.frame.DataFrame'>\n",
      "RangeIndex: 1200 entries, 0 to 1199\n",
      "Data columns (total 21 columns):\n",
      " #   Column                         Non-Null Count  Dtype  \n",
      "---  ------                         --------------  -----  \n",
      " 0   Age                            1200 non-null   int64  \n",
      " 1   Gender                         1200 non-null   object \n",
      " 2   Education_Level                1200 non-null   object \n",
      " 3   Employment_Status              1200 non-null   object \n",
      " 4   Sleep_Hours                    1200 non-null   float64\n",
      " 5   Physical_Activity_Hrs          1200 non-null   float64\n",
      " 6   Social_Support_Score           1200 non-null   int64  \n",
      " 7   Anxiety_Score                  1200 non-null   int64  \n",
      " 8   Depression_Score               1200 non-null   int64  \n",
      " 9   Stress_Level                   1200 non-null   int64  \n",
      " 10  Family_History_Mental_Illness  1200 non-null   int64  \n",
      " 11  Chronic_Illnesses              1200 non-null   int64  \n",
      " 12  Medication_Use                 453 non-null    object \n",
      " 13  Therapy                        1200 non-null   int64  \n",
      " 14  Meditation                     1200 non-null   int64  \n",
      " 15  Substance_Use                  366 non-null    object \n",
      " 16  Financial_Stress               1200 non-null   int64  \n",
      " 17  Work_Stress                    1200 non-null   int64  \n",
      " 18  Self_Esteem_Score              1200 non-null   int64  \n",
      " 19  Life_Satisfaction_Score        1200 non-null   int64  \n",
      " 20  Loneliness_Score               1200 non-null   int64  \n",
      "dtypes: float64(2), int64(14), object(5)\n",
      "memory usage: 197.0+ KB\n"
     ]
    }
   ],
   "source": [
    "df.info()"
   ]
  },
  {
   "cell_type": "code",
   "execution_count": null,
   "metadata": {
    "colab": {
     "base_uri": "https://localhost:8080/",
     "height": 320
    },
    "executionInfo": {
     "elapsed": 158,
     "status": "ok",
     "timestamp": 1743294306945,
     "user": {
      "displayName": "Leandro Fernandes",
      "userId": "07469546857901237394"
     },
     "user_tz": 180
    },
    "id": "dYxQaOVaVP7-",
    "outputId": "70ecb516-8e3e-48dd-a72e-af47663ee4bd"
   },
   "outputs": [
    {
     "data": {
      "application/vnd.google.colaboratory.intrinsic+json": {
       "summary": "{\n  \"name\": \"df\",\n  \"rows\": 8,\n  \"fields\": [\n    {\n      \"column\": \"Age\",\n      \"properties\": {\n        \"dtype\": \"number\",\n        \"std\": 409.8519391523854,\n        \"min\": 16.45115682510108,\n        \"max\": 1200.0,\n        \"num_unique_values\": 8,\n        \"samples\": [\n          46.3175,\n          46.0,\n          1200.0\n        ],\n        \"semantic_type\": \"\",\n        \"description\": \"\"\n      }\n    },\n    {\n      \"column\": \"Sleep_Hours\",\n      \"properties\": {\n        \"dtype\": \"number\",\n        \"std\": 422.1714963778766,\n        \"min\": 1.5295495856446744,\n        \"max\": 1200.0,\n        \"num_unique_values\": 8,\n        \"samples\": [\n          6.469,\n          6.4,\n          1200.0\n        ],\n        \"semantic_type\": \"\",\n        \"description\": \"\"\n      }\n    },\n    {\n      \"column\": \"Physical_Activity_Hrs\",\n      \"properties\": {\n        \"dtype\": \"number\",\n        \"std\": 423.08757297557815,\n        \"min\": 0.0,\n        \"max\": 1200.0,\n        \"num_unique_values\": 8,\n        \"samples\": [\n          2.00575,\n          1.4,\n          1200.0\n        ],\n        \"semantic_type\": \"\",\n        \"description\": \"\"\n      }\n    },\n    {\n      \"column\": \"Social_Support_Score\",\n      \"properties\": {\n        \"dtype\": \"number\",\n        \"std\": 422.61963602262773,\n        \"min\": 1.0,\n        \"max\": 1200.0,\n        \"num_unique_values\": 8,\n        \"samples\": [\n          5.055,\n          5.0,\n          1200.0\n        ],\n        \"semantic_type\": \"\",\n        \"description\": \"\"\n      }\n    },\n    {\n      \"column\": \"Anxiety_Score\",\n      \"properties\": {\n        \"dtype\": \"number\",\n        \"std\": 420.8290108627354,\n        \"min\": 1.0,\n        \"max\": 1200.0,\n        \"num_unique_values\": 8,\n        \"samples\": [\n          10.47,\n          10.5,\n          1200.0\n        ],\n        \"semantic_type\": \"\",\n        \"description\": \"\"\n      }\n    },\n    {\n      \"column\": \"Depression_Score\",\n      \"properties\": {\n        \"dtype\": \"number\",\n        \"std\": 420.8046912119679,\n        \"min\": 1.0,\n        \"max\": 1200.0,\n        \"num_unique_values\": 8,\n        \"samples\": [\n          10.674166666666666,\n          11.0,\n          1200.0\n        ],\n        \"semantic_type\": \"\",\n        \"description\": \"\"\n      }\n    },\n    {\n      \"column\": \"Stress_Level\",\n      \"properties\": {\n        \"dtype\": \"number\",\n        \"std\": 422.6282337575159,\n        \"min\": 1.0,\n        \"max\": 1200.0,\n        \"num_unique_values\": 8,\n        \"samples\": [\n          5.0008333333333335,\n          5.0,\n          1200.0\n        ],\n        \"semantic_type\": \"\",\n        \"description\": \"\"\n      }\n    },\n    {\n      \"column\": \"Family_History_Mental_Illness\",\n      \"properties\": {\n        \"dtype\": \"number\",\n        \"std\": 424.12364138752065,\n        \"min\": 0.0,\n        \"max\": 1200.0,\n        \"num_unique_values\": 5,\n        \"samples\": [\n          0.31833333333333336,\n          1.0,\n          0.46602382348860727\n        ],\n        \"semantic_type\": \"\",\n        \"description\": \"\"\n      }\n    },\n    {\n      \"column\": \"Chronic_Illnesses\",\n      \"properties\": {\n        \"dtype\": \"number\",\n        \"std\": 424.12738104289167,\n        \"min\": 0.0,\n        \"max\": 1200.0,\n        \"num_unique_values\": 5,\n        \"samples\": [\n          0.2675,\n          1.0,\n          0.44283989504544874\n        ],\n        \"semantic_type\": \"\",\n        \"description\": \"\"\n      }\n    },\n    {\n      \"column\": \"Therapy\",\n      \"properties\": {\n        \"dtype\": \"number\",\n        \"std\": 424.1825145740348,\n        \"min\": 0.0,\n        \"max\": 1200.0,\n        \"num_unique_values\": 5,\n        \"samples\": [\n          0.21,\n          1.0,\n          0.40747805499734074\n        ],\n        \"semantic_type\": \"\",\n        \"description\": \"\"\n      }\n    },\n    {\n      \"column\": \"Meditation\",\n      \"properties\": {\n        \"dtype\": \"number\",\n        \"std\": 424.1183505006391,\n        \"min\": 0.0,\n        \"max\": 1200.0,\n        \"num_unique_values\": 5,\n        \"samples\": [\n          0.39916666666666667,\n          1.0,\n          0.48993128713182865\n        ],\n        \"semantic_type\": \"\",\n        \"description\": \"\"\n      }\n    },\n    {\n      \"column\": \"Financial_Stress\",\n      \"properties\": {\n        \"dtype\": \"number\",\n        \"std\": 422.6259562017805,\n        \"min\": 1.0,\n        \"max\": 1200.0,\n        \"num_unique_values\": 8,\n        \"samples\": [\n          4.9925,\n          5.0,\n          1200.0\n        ],\n        \"semantic_type\": \"\",\n        \"description\": \"\"\n      }\n    },\n    {\n      \"column\": \"Work_Stress\",\n      \"properties\": {\n        \"dtype\": \"number\",\n        \"std\": 422.6334148280472,\n        \"min\": 1.0,\n        \"max\": 1200.0,\n        \"num_unique_values\": 8,\n        \"samples\": [\n          4.889166666666667,\n          5.0,\n          1200.0\n        ],\n        \"semantic_type\": \"\",\n        \"description\": \"\"\n      }\n    },\n    {\n      \"column\": \"Self_Esteem_Score\",\n      \"properties\": {\n        \"dtype\": \"number\",\n        \"std\": 422.6254699272167,\n        \"min\": 1.0,\n        \"max\": 1200.0,\n        \"num_unique_values\": 8,\n        \"samples\": [\n          5.0625,\n          5.0,\n          1200.0\n        ],\n        \"semantic_type\": \"\",\n        \"description\": \"\"\n      }\n    },\n    {\n      \"column\": \"Life_Satisfaction_Score\",\n      \"properties\": {\n        \"dtype\": \"number\",\n        \"std\": 422.620611200886,\n        \"min\": 1.0,\n        \"max\": 1200.0,\n        \"num_unique_values\": 8,\n        \"samples\": [\n          5.12,\n          5.0,\n          1200.0\n        ],\n        \"semantic_type\": \"\",\n        \"description\": \"\"\n      }\n    },\n    {\n      \"column\": \"Loneliness_Score\",\n      \"properties\": {\n        \"dtype\": \"number\",\n        \"std\": 422.62889426277127,\n        \"min\": 1.0,\n        \"max\": 1200.0,\n        \"num_unique_values\": 8,\n        \"samples\": [\n          4.9591666666666665,\n          5.0,\n          1200.0\n        ],\n        \"semantic_type\": \"\",\n        \"description\": \"\"\n      }\n    }\n  ]\n}",
       "type": "dataframe"
      },
      "text/html": [
       "\n",
       "  <div id=\"df-13df1947-6419-4133-b75e-068f4ac9ccfe\" class=\"colab-df-container\">\n",
       "    <div>\n",
       "<style scoped>\n",
       "    .dataframe tbody tr th:only-of-type {\n",
       "        vertical-align: middle;\n",
       "    }\n",
       "\n",
       "    .dataframe tbody tr th {\n",
       "        vertical-align: top;\n",
       "    }\n",
       "\n",
       "    .dataframe thead th {\n",
       "        text-align: right;\n",
       "    }\n",
       "</style>\n",
       "<table border=\"1\" class=\"dataframe\">\n",
       "  <thead>\n",
       "    <tr style=\"text-align: right;\">\n",
       "      <th></th>\n",
       "      <th>Age</th>\n",
       "      <th>Sleep_Hours</th>\n",
       "      <th>Physical_Activity_Hrs</th>\n",
       "      <th>Social_Support_Score</th>\n",
       "      <th>Anxiety_Score</th>\n",
       "      <th>Depression_Score</th>\n",
       "      <th>Stress_Level</th>\n",
       "      <th>Family_History_Mental_Illness</th>\n",
       "      <th>Chronic_Illnesses</th>\n",
       "      <th>Therapy</th>\n",
       "      <th>Meditation</th>\n",
       "      <th>Financial_Stress</th>\n",
       "      <th>Work_Stress</th>\n",
       "      <th>Self_Esteem_Score</th>\n",
       "      <th>Life_Satisfaction_Score</th>\n",
       "      <th>Loneliness_Score</th>\n",
       "    </tr>\n",
       "  </thead>\n",
       "  <tbody>\n",
       "    <tr>\n",
       "      <th>count</th>\n",
       "      <td>1200.000000</td>\n",
       "      <td>1200.00000</td>\n",
       "      <td>1200.000000</td>\n",
       "      <td>1200.000000</td>\n",
       "      <td>1200.000000</td>\n",
       "      <td>1200.000000</td>\n",
       "      <td>1200.000000</td>\n",
       "      <td>1200.000000</td>\n",
       "      <td>1200.00000</td>\n",
       "      <td>1200.000000</td>\n",
       "      <td>1200.000000</td>\n",
       "      <td>1200.000000</td>\n",
       "      <td>1200.000000</td>\n",
       "      <td>1200.000000</td>\n",
       "      <td>1200.00000</td>\n",
       "      <td>1200.000000</td>\n",
       "    </tr>\n",
       "    <tr>\n",
       "      <th>mean</th>\n",
       "      <td>46.317500</td>\n",
       "      <td>6.46900</td>\n",
       "      <td>2.005750</td>\n",
       "      <td>5.055000</td>\n",
       "      <td>10.470000</td>\n",
       "      <td>10.674167</td>\n",
       "      <td>5.000833</td>\n",
       "      <td>0.318333</td>\n",
       "      <td>0.26750</td>\n",
       "      <td>0.210000</td>\n",
       "      <td>0.399167</td>\n",
       "      <td>4.992500</td>\n",
       "      <td>4.889167</td>\n",
       "      <td>5.062500</td>\n",
       "      <td>5.12000</td>\n",
       "      <td>4.959167</td>\n",
       "    </tr>\n",
       "    <tr>\n",
       "      <th>std</th>\n",
       "      <td>16.451157</td>\n",
       "      <td>1.52955</td>\n",
       "      <td>2.037818</td>\n",
       "      <td>2.652893</td>\n",
       "      <td>5.911138</td>\n",
       "      <td>5.632889</td>\n",
       "      <td>2.538281</td>\n",
       "      <td>0.466024</td>\n",
       "      <td>0.44284</td>\n",
       "      <td>0.407478</td>\n",
       "      <td>0.489931</td>\n",
       "      <td>2.590953</td>\n",
       "      <td>2.547016</td>\n",
       "      <td>2.531587</td>\n",
       "      <td>2.56991</td>\n",
       "      <td>2.566383</td>\n",
       "    </tr>\n",
       "    <tr>\n",
       "      <th>min</th>\n",
       "      <td>18.000000</td>\n",
       "      <td>2.00000</td>\n",
       "      <td>0.000000</td>\n",
       "      <td>1.000000</td>\n",
       "      <td>1.000000</td>\n",
       "      <td>1.000000</td>\n",
       "      <td>1.000000</td>\n",
       "      <td>0.000000</td>\n",
       "      <td>0.00000</td>\n",
       "      <td>0.000000</td>\n",
       "      <td>0.000000</td>\n",
       "      <td>1.000000</td>\n",
       "      <td>1.000000</td>\n",
       "      <td>1.000000</td>\n",
       "      <td>1.00000</td>\n",
       "      <td>1.000000</td>\n",
       "    </tr>\n",
       "    <tr>\n",
       "      <th>25%</th>\n",
       "      <td>33.000000</td>\n",
       "      <td>5.40000</td>\n",
       "      <td>0.600000</td>\n",
       "      <td>3.000000</td>\n",
       "      <td>5.000000</td>\n",
       "      <td>6.000000</td>\n",
       "      <td>3.000000</td>\n",
       "      <td>0.000000</td>\n",
       "      <td>0.00000</td>\n",
       "      <td>0.000000</td>\n",
       "      <td>0.000000</td>\n",
       "      <td>3.000000</td>\n",
       "      <td>3.000000</td>\n",
       "      <td>3.000000</td>\n",
       "      <td>3.00000</td>\n",
       "      <td>3.000000</td>\n",
       "    </tr>\n",
       "    <tr>\n",
       "      <th>50%</th>\n",
       "      <td>46.000000</td>\n",
       "      <td>6.40000</td>\n",
       "      <td>1.400000</td>\n",
       "      <td>5.000000</td>\n",
       "      <td>10.500000</td>\n",
       "      <td>11.000000</td>\n",
       "      <td>5.000000</td>\n",
       "      <td>0.000000</td>\n",
       "      <td>0.00000</td>\n",
       "      <td>0.000000</td>\n",
       "      <td>0.000000</td>\n",
       "      <td>5.000000</td>\n",
       "      <td>5.000000</td>\n",
       "      <td>5.000000</td>\n",
       "      <td>5.00000</td>\n",
       "      <td>5.000000</td>\n",
       "    </tr>\n",
       "    <tr>\n",
       "      <th>75%</th>\n",
       "      <td>61.000000</td>\n",
       "      <td>7.50000</td>\n",
       "      <td>2.700000</td>\n",
       "      <td>7.000000</td>\n",
       "      <td>16.000000</td>\n",
       "      <td>15.000000</td>\n",
       "      <td>7.000000</td>\n",
       "      <td>1.000000</td>\n",
       "      <td>1.00000</td>\n",
       "      <td>0.000000</td>\n",
       "      <td>1.000000</td>\n",
       "      <td>7.000000</td>\n",
       "      <td>7.000000</td>\n",
       "      <td>7.000000</td>\n",
       "      <td>7.00000</td>\n",
       "      <td>7.000000</td>\n",
       "    </tr>\n",
       "    <tr>\n",
       "      <th>max</th>\n",
       "      <td>74.000000</td>\n",
       "      <td>12.40000</td>\n",
       "      <td>15.100000</td>\n",
       "      <td>9.000000</td>\n",
       "      <td>20.000000</td>\n",
       "      <td>20.000000</td>\n",
       "      <td>9.000000</td>\n",
       "      <td>1.000000</td>\n",
       "      <td>1.00000</td>\n",
       "      <td>1.000000</td>\n",
       "      <td>1.000000</td>\n",
       "      <td>9.000000</td>\n",
       "      <td>9.000000</td>\n",
       "      <td>9.000000</td>\n",
       "      <td>9.00000</td>\n",
       "      <td>9.000000</td>\n",
       "    </tr>\n",
       "  </tbody>\n",
       "</table>\n",
       "</div>\n",
       "    <div class=\"colab-df-buttons\">\n",
       "\n",
       "  <div class=\"colab-df-container\">\n",
       "    <button class=\"colab-df-convert\" onclick=\"convertToInteractive('df-13df1947-6419-4133-b75e-068f4ac9ccfe')\"\n",
       "            title=\"Convert this dataframe to an interactive table.\"\n",
       "            style=\"display:none;\">\n",
       "\n",
       "  <svg xmlns=\"http://www.w3.org/2000/svg\" height=\"24px\" viewBox=\"0 -960 960 960\">\n",
       "    <path d=\"M120-120v-720h720v720H120Zm60-500h600v-160H180v160Zm220 220h160v-160H400v160Zm0 220h160v-160H400v160ZM180-400h160v-160H180v160Zm440 0h160v-160H620v160ZM180-180h160v-160H180v160Zm440 0h160v-160H620v160Z\"/>\n",
       "  </svg>\n",
       "    </button>\n",
       "\n",
       "  <style>\n",
       "    .colab-df-container {\n",
       "      display:flex;\n",
       "      gap: 12px;\n",
       "    }\n",
       "\n",
       "    .colab-df-convert {\n",
       "      background-color: #E8F0FE;\n",
       "      border: none;\n",
       "      border-radius: 50%;\n",
       "      cursor: pointer;\n",
       "      display: none;\n",
       "      fill: #1967D2;\n",
       "      height: 32px;\n",
       "      padding: 0 0 0 0;\n",
       "      width: 32px;\n",
       "    }\n",
       "\n",
       "    .colab-df-convert:hover {\n",
       "      background-color: #E2EBFA;\n",
       "      box-shadow: 0px 1px 2px rgba(60, 64, 67, 0.3), 0px 1px 3px 1px rgba(60, 64, 67, 0.15);\n",
       "      fill: #174EA6;\n",
       "    }\n",
       "\n",
       "    .colab-df-buttons div {\n",
       "      margin-bottom: 4px;\n",
       "    }\n",
       "\n",
       "    [theme=dark] .colab-df-convert {\n",
       "      background-color: #3B4455;\n",
       "      fill: #D2E3FC;\n",
       "    }\n",
       "\n",
       "    [theme=dark] .colab-df-convert:hover {\n",
       "      background-color: #434B5C;\n",
       "      box-shadow: 0px 1px 3px 1px rgba(0, 0, 0, 0.15);\n",
       "      filter: drop-shadow(0px 1px 2px rgba(0, 0, 0, 0.3));\n",
       "      fill: #FFFFFF;\n",
       "    }\n",
       "  </style>\n",
       "\n",
       "    <script>\n",
       "      const buttonEl =\n",
       "        document.querySelector('#df-13df1947-6419-4133-b75e-068f4ac9ccfe button.colab-df-convert');\n",
       "      buttonEl.style.display =\n",
       "        google.colab.kernel.accessAllowed ? 'block' : 'none';\n",
       "\n",
       "      async function convertToInteractive(key) {\n",
       "        const element = document.querySelector('#df-13df1947-6419-4133-b75e-068f4ac9ccfe');\n",
       "        const dataTable =\n",
       "          await google.colab.kernel.invokeFunction('convertToInteractive',\n",
       "                                                    [key], {});\n",
       "        if (!dataTable) return;\n",
       "\n",
       "        const docLinkHtml = 'Like what you see? Visit the ' +\n",
       "          '<a target=\"_blank\" href=https://colab.research.google.com/notebooks/data_table.ipynb>data table notebook</a>'\n",
       "          + ' to learn more about interactive tables.';\n",
       "        element.innerHTML = '';\n",
       "        dataTable['output_type'] = 'display_data';\n",
       "        await google.colab.output.renderOutput(dataTable, element);\n",
       "        const docLink = document.createElement('div');\n",
       "        docLink.innerHTML = docLinkHtml;\n",
       "        element.appendChild(docLink);\n",
       "      }\n",
       "    </script>\n",
       "  </div>\n",
       "\n",
       "\n",
       "<div id=\"df-b8610ac0-6a29-4dd6-ab3a-dc2cc7d6e2bd\">\n",
       "  <button class=\"colab-df-quickchart\" onclick=\"quickchart('df-b8610ac0-6a29-4dd6-ab3a-dc2cc7d6e2bd')\"\n",
       "            title=\"Suggest charts\"\n",
       "            style=\"display:none;\">\n",
       "\n",
       "<svg xmlns=\"http://www.w3.org/2000/svg\" height=\"24px\"viewBox=\"0 0 24 24\"\n",
       "     width=\"24px\">\n",
       "    <g>\n",
       "        <path d=\"M19 3H5c-1.1 0-2 .9-2 2v14c0 1.1.9 2 2 2h14c1.1 0 2-.9 2-2V5c0-1.1-.9-2-2-2zM9 17H7v-7h2v7zm4 0h-2V7h2v10zm4 0h-2v-4h2v4z\"/>\n",
       "    </g>\n",
       "</svg>\n",
       "  </button>\n",
       "\n",
       "<style>\n",
       "  .colab-df-quickchart {\n",
       "      --bg-color: #E8F0FE;\n",
       "      --fill-color: #1967D2;\n",
       "      --hover-bg-color: #E2EBFA;\n",
       "      --hover-fill-color: #174EA6;\n",
       "      --disabled-fill-color: #AAA;\n",
       "      --disabled-bg-color: #DDD;\n",
       "  }\n",
       "\n",
       "  [theme=dark] .colab-df-quickchart {\n",
       "      --bg-color: #3B4455;\n",
       "      --fill-color: #D2E3FC;\n",
       "      --hover-bg-color: #434B5C;\n",
       "      --hover-fill-color: #FFFFFF;\n",
       "      --disabled-bg-color: #3B4455;\n",
       "      --disabled-fill-color: #666;\n",
       "  }\n",
       "\n",
       "  .colab-df-quickchart {\n",
       "    background-color: var(--bg-color);\n",
       "    border: none;\n",
       "    border-radius: 50%;\n",
       "    cursor: pointer;\n",
       "    display: none;\n",
       "    fill: var(--fill-color);\n",
       "    height: 32px;\n",
       "    padding: 0;\n",
       "    width: 32px;\n",
       "  }\n",
       "\n",
       "  .colab-df-quickchart:hover {\n",
       "    background-color: var(--hover-bg-color);\n",
       "    box-shadow: 0 1px 2px rgba(60, 64, 67, 0.3), 0 1px 3px 1px rgba(60, 64, 67, 0.15);\n",
       "    fill: var(--button-hover-fill-color);\n",
       "  }\n",
       "\n",
       "  .colab-df-quickchart-complete:disabled,\n",
       "  .colab-df-quickchart-complete:disabled:hover {\n",
       "    background-color: var(--disabled-bg-color);\n",
       "    fill: var(--disabled-fill-color);\n",
       "    box-shadow: none;\n",
       "  }\n",
       "\n",
       "  .colab-df-spinner {\n",
       "    border: 2px solid var(--fill-color);\n",
       "    border-color: transparent;\n",
       "    border-bottom-color: var(--fill-color);\n",
       "    animation:\n",
       "      spin 1s steps(1) infinite;\n",
       "  }\n",
       "\n",
       "  @keyframes spin {\n",
       "    0% {\n",
       "      border-color: transparent;\n",
       "      border-bottom-color: var(--fill-color);\n",
       "      border-left-color: var(--fill-color);\n",
       "    }\n",
       "    20% {\n",
       "      border-color: transparent;\n",
       "      border-left-color: var(--fill-color);\n",
       "      border-top-color: var(--fill-color);\n",
       "    }\n",
       "    30% {\n",
       "      border-color: transparent;\n",
       "      border-left-color: var(--fill-color);\n",
       "      border-top-color: var(--fill-color);\n",
       "      border-right-color: var(--fill-color);\n",
       "    }\n",
       "    40% {\n",
       "      border-color: transparent;\n",
       "      border-right-color: var(--fill-color);\n",
       "      border-top-color: var(--fill-color);\n",
       "    }\n",
       "    60% {\n",
       "      border-color: transparent;\n",
       "      border-right-color: var(--fill-color);\n",
       "    }\n",
       "    80% {\n",
       "      border-color: transparent;\n",
       "      border-right-color: var(--fill-color);\n",
       "      border-bottom-color: var(--fill-color);\n",
       "    }\n",
       "    90% {\n",
       "      border-color: transparent;\n",
       "      border-bottom-color: var(--fill-color);\n",
       "    }\n",
       "  }\n",
       "</style>\n",
       "\n",
       "  <script>\n",
       "    async function quickchart(key) {\n",
       "      const quickchartButtonEl =\n",
       "        document.querySelector('#' + key + ' button');\n",
       "      quickchartButtonEl.disabled = true;  // To prevent multiple clicks.\n",
       "      quickchartButtonEl.classList.add('colab-df-spinner');\n",
       "      try {\n",
       "        const charts = await google.colab.kernel.invokeFunction(\n",
       "            'suggestCharts', [key], {});\n",
       "      } catch (error) {\n",
       "        console.error('Error during call to suggestCharts:', error);\n",
       "      }\n",
       "      quickchartButtonEl.classList.remove('colab-df-spinner');\n",
       "      quickchartButtonEl.classList.add('colab-df-quickchart-complete');\n",
       "    }\n",
       "    (() => {\n",
       "      let quickchartButtonEl =\n",
       "        document.querySelector('#df-b8610ac0-6a29-4dd6-ab3a-dc2cc7d6e2bd button');\n",
       "      quickchartButtonEl.style.display =\n",
       "        google.colab.kernel.accessAllowed ? 'block' : 'none';\n",
       "    })();\n",
       "  </script>\n",
       "</div>\n",
       "\n",
       "    </div>\n",
       "  </div>\n"
      ],
      "text/plain": [
       "               Age  Sleep_Hours  Physical_Activity_Hrs  Social_Support_Score  \\\n",
       "count  1200.000000   1200.00000            1200.000000           1200.000000   \n",
       "mean     46.317500      6.46900               2.005750              5.055000   \n",
       "std      16.451157      1.52955               2.037818              2.652893   \n",
       "min      18.000000      2.00000               0.000000              1.000000   \n",
       "25%      33.000000      5.40000               0.600000              3.000000   \n",
       "50%      46.000000      6.40000               1.400000              5.000000   \n",
       "75%      61.000000      7.50000               2.700000              7.000000   \n",
       "max      74.000000     12.40000              15.100000              9.000000   \n",
       "\n",
       "       Anxiety_Score  Depression_Score  Stress_Level  \\\n",
       "count    1200.000000       1200.000000   1200.000000   \n",
       "mean       10.470000         10.674167      5.000833   \n",
       "std         5.911138          5.632889      2.538281   \n",
       "min         1.000000          1.000000      1.000000   \n",
       "25%         5.000000          6.000000      3.000000   \n",
       "50%        10.500000         11.000000      5.000000   \n",
       "75%        16.000000         15.000000      7.000000   \n",
       "max        20.000000         20.000000      9.000000   \n",
       "\n",
       "       Family_History_Mental_Illness  Chronic_Illnesses      Therapy  \\\n",
       "count                    1200.000000         1200.00000  1200.000000   \n",
       "mean                        0.318333            0.26750     0.210000   \n",
       "std                         0.466024            0.44284     0.407478   \n",
       "min                         0.000000            0.00000     0.000000   \n",
       "25%                         0.000000            0.00000     0.000000   \n",
       "50%                         0.000000            0.00000     0.000000   \n",
       "75%                         1.000000            1.00000     0.000000   \n",
       "max                         1.000000            1.00000     1.000000   \n",
       "\n",
       "        Meditation  Financial_Stress  Work_Stress  Self_Esteem_Score  \\\n",
       "count  1200.000000       1200.000000  1200.000000        1200.000000   \n",
       "mean      0.399167          4.992500     4.889167           5.062500   \n",
       "std       0.489931          2.590953     2.547016           2.531587   \n",
       "min       0.000000          1.000000     1.000000           1.000000   \n",
       "25%       0.000000          3.000000     3.000000           3.000000   \n",
       "50%       0.000000          5.000000     5.000000           5.000000   \n",
       "75%       1.000000          7.000000     7.000000           7.000000   \n",
       "max       1.000000          9.000000     9.000000           9.000000   \n",
       "\n",
       "       Life_Satisfaction_Score  Loneliness_Score  \n",
       "count               1200.00000       1200.000000  \n",
       "mean                   5.12000          4.959167  \n",
       "std                    2.56991          2.566383  \n",
       "min                    1.00000          1.000000  \n",
       "25%                    3.00000          3.000000  \n",
       "50%                    5.00000          5.000000  \n",
       "75%                    7.00000          7.000000  \n",
       "max                    9.00000          9.000000  "
      ]
     },
     "execution_count": 20,
     "metadata": {},
     "output_type": "execute_result"
    }
   ],
   "source": [
    "df.describe()"
   ]
  },
  {
   "cell_type": "markdown",
   "metadata": {
    "id": "ee1elC3vVonU"
   },
   "source": [
    "### Estatísticas Descritivas\n",
    "\n",
    "- **`count`**: Refere-se à quantidade de **registros** na base de dados. Ele indica quantas observações ou entradas existem na coluna.\n",
    "\n",
    "- **`mean`**: A **média** dos valores da coluna. Ela é calculada somando todos os valores e dividindo pelo número de observações.\n",
    "\n",
    "- **`std`**: O **desvio padrão**. Ele indica o quanto os valores da variável estão **desviando** da média. No seu caso, o **salário** está se desviando **600 reais** da média, tanto para cima quanto para baixo.\n",
    "\n",
    "- **`min`**: O **valor mínimo**. Este é o menor valor presente na coluna.\n",
    "\n",
    "- **`25%`**: Representa o **percentil 25%**. Isso significa que **25%** dos dados têm valores até esse ponto. Por exemplo, 25% dos salários são menores ou iguais a **1395 reais**.\n",
    "\n",
    "- **`50%`**: A **mediana**. A mediana é o valor que separa os **50% menores** dos **50% maiores**. No seu caso, a mediana dos salários é **2035 reais**.\n",
    "\n",
    "- **`max`**: O **valor máximo**. Este é o maior valor presente na coluna.\n",
    "\n",
    "---\n",
    "\n"
   ]
  },
  {
   "cell_type": "code",
   "execution_count": 5,
   "metadata": {
    "colab": {
     "base_uri": "https://localhost:8080/"
    },
    "executionInfo": {
     "elapsed": 25,
     "status": "ok",
     "timestamp": 1743383331770,
     "user": {
      "displayName": "Leandro Fernandes",
      "userId": "07469546857901237394"
     },
     "user_tz": 180
    },
    "id": "td_3J_vOXNAj",
    "outputId": "ced2e770-fd11-478d-a6fc-9d0d099eabc0"
   },
   "outputs": [
    {
     "data": {
      "text/plain": [
       "np.int64(0)"
      ]
     },
     "execution_count": 5,
     "metadata": {},
     "output_type": "execute_result"
    }
   ],
   "source": [
    "df.duplicated().sum()\n"
   ]
  },
  {
   "cell_type": "code",
   "execution_count": 6,
   "metadata": {
    "colab": {
     "base_uri": "https://localhost:8080/"
    },
    "executionInfo": {
     "elapsed": 22,
     "status": "ok",
     "timestamp": 1743383333871,
     "user": {
      "displayName": "Leandro Fernandes",
      "userId": "07469546857901237394"
     },
     "user_tz": 180
    },
    "id": "9d2lXAvMYqKg",
    "outputId": "09eb9f9c-ebc1-4c2e-c78a-87ba2b991f73"
   },
   "outputs": [
    {
     "name": "stdout",
     "output_type": "stream",
     "text": [
      "Age                                0\n",
      "Gender                             0\n",
      "Education_Level                    0\n",
      "Employment_Status                  0\n",
      "Sleep_Hours                        0\n",
      "Physical_Activity_Hrs              0\n",
      "Social_Support_Score               0\n",
      "Anxiety_Score                      0\n",
      "Depression_Score                   0\n",
      "Stress_Level                       0\n",
      "Family_History_Mental_Illness      0\n",
      "Chronic_Illnesses                  0\n",
      "Medication_Use                   747\n",
      "Therapy                            0\n",
      "Meditation                         0\n",
      "Substance_Use                    834\n",
      "Financial_Stress                   0\n",
      "Work_Stress                        0\n",
      "Self_Esteem_Score                  0\n",
      "Life_Satisfaction_Score            0\n",
      "Loneliness_Score                   0\n",
      "dtype: int64\n"
     ]
    }
   ],
   "source": [
    "\n",
    "print(df.isnull().sum())\n"
   ]
  },
  {
   "cell_type": "code",
   "execution_count": null,
   "metadata": {
    "colab": {
     "base_uri": "https://localhost:8080/",
     "height": 255
    },
    "executionInfo": {
     "elapsed": 92,
     "status": "ok",
     "timestamp": 1743294316242,
     "user": {
      "displayName": "Leandro Fernandes",
      "userId": "07469546857901237394"
     },
     "user_tz": 180
    },
    "id": "RS_o5Flsaagc",
    "outputId": "c463863b-0b60-462e-8162-c36c09488060"
   },
   "outputs": [
    {
     "data": {
      "application/vnd.google.colaboratory.intrinsic+json": {
       "type": "dataframe",
       "variable_name": "df"
      },
      "text/html": [
       "\n",
       "  <div id=\"df-f6b6c427-1654-47f3-a477-a3711939067e\" class=\"colab-df-container\">\n",
       "    <div>\n",
       "<style scoped>\n",
       "    .dataframe tbody tr th:only-of-type {\n",
       "        vertical-align: middle;\n",
       "    }\n",
       "\n",
       "    .dataframe tbody tr th {\n",
       "        vertical-align: top;\n",
       "    }\n",
       "\n",
       "    .dataframe thead th {\n",
       "        text-align: right;\n",
       "    }\n",
       "</style>\n",
       "<table border=\"1\" class=\"dataframe\">\n",
       "  <thead>\n",
       "    <tr style=\"text-align: right;\">\n",
       "      <th></th>\n",
       "      <th>Age</th>\n",
       "      <th>Gender</th>\n",
       "      <th>Education_Level</th>\n",
       "      <th>Employment_Status</th>\n",
       "      <th>Sleep_Hours</th>\n",
       "      <th>Physical_Activity_Hrs</th>\n",
       "      <th>Social_Support_Score</th>\n",
       "      <th>Anxiety_Score</th>\n",
       "      <th>Depression_Score</th>\n",
       "      <th>Stress_Level</th>\n",
       "      <th>...</th>\n",
       "      <th>Chronic_Illnesses</th>\n",
       "      <th>Medication_Use</th>\n",
       "      <th>Therapy</th>\n",
       "      <th>Meditation</th>\n",
       "      <th>Substance_Use</th>\n",
       "      <th>Financial_Stress</th>\n",
       "      <th>Work_Stress</th>\n",
       "      <th>Self_Esteem_Score</th>\n",
       "      <th>Life_Satisfaction_Score</th>\n",
       "      <th>Loneliness_Score</th>\n",
       "    </tr>\n",
       "  </thead>\n",
       "  <tbody>\n",
       "    <tr>\n",
       "      <th>0</th>\n",
       "      <td>56</td>\n",
       "      <td>Male</td>\n",
       "      <td>Bachelor's</td>\n",
       "      <td>Unemployed</td>\n",
       "      <td>6.0</td>\n",
       "      <td>0.4</td>\n",
       "      <td>3</td>\n",
       "      <td>4</td>\n",
       "      <td>2</td>\n",
       "      <td>9</td>\n",
       "      <td>...</td>\n",
       "      <td>0</td>\n",
       "      <td>NaN</td>\n",
       "      <td>0</td>\n",
       "      <td>1</td>\n",
       "      <td>NaN</td>\n",
       "      <td>4</td>\n",
       "      <td>3</td>\n",
       "      <td>7</td>\n",
       "      <td>5</td>\n",
       "      <td>1</td>\n",
       "    </tr>\n",
       "    <tr>\n",
       "      <th>1</th>\n",
       "      <td>69</td>\n",
       "      <td>Female</td>\n",
       "      <td>Bachelor's</td>\n",
       "      <td>Retired</td>\n",
       "      <td>8.8</td>\n",
       "      <td>2.8</td>\n",
       "      <td>6</td>\n",
       "      <td>18</td>\n",
       "      <td>7</td>\n",
       "      <td>6</td>\n",
       "      <td>...</td>\n",
       "      <td>0</td>\n",
       "      <td>NaN</td>\n",
       "      <td>1</td>\n",
       "      <td>0</td>\n",
       "      <td>NaN</td>\n",
       "      <td>1</td>\n",
       "      <td>4</td>\n",
       "      <td>7</td>\n",
       "      <td>4</td>\n",
       "      <td>6</td>\n",
       "    </tr>\n",
       "    <tr>\n",
       "      <th>2</th>\n",
       "      <td>46</td>\n",
       "      <td>Female</td>\n",
       "      <td>Master's</td>\n",
       "      <td>Employed</td>\n",
       "      <td>5.3</td>\n",
       "      <td>1.6</td>\n",
       "      <td>5</td>\n",
       "      <td>5</td>\n",
       "      <td>13</td>\n",
       "      <td>8</td>\n",
       "      <td>...</td>\n",
       "      <td>0</td>\n",
       "      <td>NaN</td>\n",
       "      <td>0</td>\n",
       "      <td>1</td>\n",
       "      <td>NaN</td>\n",
       "      <td>8</td>\n",
       "      <td>7</td>\n",
       "      <td>8</td>\n",
       "      <td>1</td>\n",
       "      <td>1</td>\n",
       "    </tr>\n",
       "    <tr>\n",
       "      <th>3</th>\n",
       "      <td>32</td>\n",
       "      <td>Female</td>\n",
       "      <td>High School</td>\n",
       "      <td>Unemployed</td>\n",
       "      <td>8.8</td>\n",
       "      <td>0.5</td>\n",
       "      <td>4</td>\n",
       "      <td>6</td>\n",
       "      <td>3</td>\n",
       "      <td>4</td>\n",
       "      <td>...</td>\n",
       "      <td>1</td>\n",
       "      <td>NaN</td>\n",
       "      <td>0</td>\n",
       "      <td>0</td>\n",
       "      <td>NaN</td>\n",
       "      <td>7</td>\n",
       "      <td>4</td>\n",
       "      <td>8</td>\n",
       "      <td>4</td>\n",
       "      <td>4</td>\n",
       "    </tr>\n",
       "    <tr>\n",
       "      <th>4</th>\n",
       "      <td>60</td>\n",
       "      <td>Female</td>\n",
       "      <td>Bachelor's</td>\n",
       "      <td>Retired</td>\n",
       "      <td>7.2</td>\n",
       "      <td>0.7</td>\n",
       "      <td>2</td>\n",
       "      <td>7</td>\n",
       "      <td>15</td>\n",
       "      <td>3</td>\n",
       "      <td>...</td>\n",
       "      <td>0</td>\n",
       "      <td>NaN</td>\n",
       "      <td>1</td>\n",
       "      <td>1</td>\n",
       "      <td>Frequent</td>\n",
       "      <td>8</td>\n",
       "      <td>9</td>\n",
       "      <td>5</td>\n",
       "      <td>7</td>\n",
       "      <td>7</td>\n",
       "    </tr>\n",
       "  </tbody>\n",
       "</table>\n",
       "<p>5 rows × 21 columns</p>\n",
       "</div>\n",
       "    <div class=\"colab-df-buttons\">\n",
       "\n",
       "  <div class=\"colab-df-container\">\n",
       "    <button class=\"colab-df-convert\" onclick=\"convertToInteractive('df-f6b6c427-1654-47f3-a477-a3711939067e')\"\n",
       "            title=\"Convert this dataframe to an interactive table.\"\n",
       "            style=\"display:none;\">\n",
       "\n",
       "  <svg xmlns=\"http://www.w3.org/2000/svg\" height=\"24px\" viewBox=\"0 -960 960 960\">\n",
       "    <path d=\"M120-120v-720h720v720H120Zm60-500h600v-160H180v160Zm220 220h160v-160H400v160Zm0 220h160v-160H400v160ZM180-400h160v-160H180v160Zm440 0h160v-160H620v160ZM180-180h160v-160H180v160Zm440 0h160v-160H620v160Z\"/>\n",
       "  </svg>\n",
       "    </button>\n",
       "\n",
       "  <style>\n",
       "    .colab-df-container {\n",
       "      display:flex;\n",
       "      gap: 12px;\n",
       "    }\n",
       "\n",
       "    .colab-df-convert {\n",
       "      background-color: #E8F0FE;\n",
       "      border: none;\n",
       "      border-radius: 50%;\n",
       "      cursor: pointer;\n",
       "      display: none;\n",
       "      fill: #1967D2;\n",
       "      height: 32px;\n",
       "      padding: 0 0 0 0;\n",
       "      width: 32px;\n",
       "    }\n",
       "\n",
       "    .colab-df-convert:hover {\n",
       "      background-color: #E2EBFA;\n",
       "      box-shadow: 0px 1px 2px rgba(60, 64, 67, 0.3), 0px 1px 3px 1px rgba(60, 64, 67, 0.15);\n",
       "      fill: #174EA6;\n",
       "    }\n",
       "\n",
       "    .colab-df-buttons div {\n",
       "      margin-bottom: 4px;\n",
       "    }\n",
       "\n",
       "    [theme=dark] .colab-df-convert {\n",
       "      background-color: #3B4455;\n",
       "      fill: #D2E3FC;\n",
       "    }\n",
       "\n",
       "    [theme=dark] .colab-df-convert:hover {\n",
       "      background-color: #434B5C;\n",
       "      box-shadow: 0px 1px 3px 1px rgba(0, 0, 0, 0.15);\n",
       "      filter: drop-shadow(0px 1px 2px rgba(0, 0, 0, 0.3));\n",
       "      fill: #FFFFFF;\n",
       "    }\n",
       "  </style>\n",
       "\n",
       "    <script>\n",
       "      const buttonEl =\n",
       "        document.querySelector('#df-f6b6c427-1654-47f3-a477-a3711939067e button.colab-df-convert');\n",
       "      buttonEl.style.display =\n",
       "        google.colab.kernel.accessAllowed ? 'block' : 'none';\n",
       "\n",
       "      async function convertToInteractive(key) {\n",
       "        const element = document.querySelector('#df-f6b6c427-1654-47f3-a477-a3711939067e');\n",
       "        const dataTable =\n",
       "          await google.colab.kernel.invokeFunction('convertToInteractive',\n",
       "                                                    [key], {});\n",
       "        if (!dataTable) return;\n",
       "\n",
       "        const docLinkHtml = 'Like what you see? Visit the ' +\n",
       "          '<a target=\"_blank\" href=https://colab.research.google.com/notebooks/data_table.ipynb>data table notebook</a>'\n",
       "          + ' to learn more about interactive tables.';\n",
       "        element.innerHTML = '';\n",
       "        dataTable['output_type'] = 'display_data';\n",
       "        await google.colab.output.renderOutput(dataTable, element);\n",
       "        const docLink = document.createElement('div');\n",
       "        docLink.innerHTML = docLinkHtml;\n",
       "        element.appendChild(docLink);\n",
       "      }\n",
       "    </script>\n",
       "  </div>\n",
       "\n",
       "\n",
       "<div id=\"df-6d471685-067b-4045-b80a-4e0d5a868a67\">\n",
       "  <button class=\"colab-df-quickchart\" onclick=\"quickchart('df-6d471685-067b-4045-b80a-4e0d5a868a67')\"\n",
       "            title=\"Suggest charts\"\n",
       "            style=\"display:none;\">\n",
       "\n",
       "<svg xmlns=\"http://www.w3.org/2000/svg\" height=\"24px\"viewBox=\"0 0 24 24\"\n",
       "     width=\"24px\">\n",
       "    <g>\n",
       "        <path d=\"M19 3H5c-1.1 0-2 .9-2 2v14c0 1.1.9 2 2 2h14c1.1 0 2-.9 2-2V5c0-1.1-.9-2-2-2zM9 17H7v-7h2v7zm4 0h-2V7h2v10zm4 0h-2v-4h2v4z\"/>\n",
       "    </g>\n",
       "</svg>\n",
       "  </button>\n",
       "\n",
       "<style>\n",
       "  .colab-df-quickchart {\n",
       "      --bg-color: #E8F0FE;\n",
       "      --fill-color: #1967D2;\n",
       "      --hover-bg-color: #E2EBFA;\n",
       "      --hover-fill-color: #174EA6;\n",
       "      --disabled-fill-color: #AAA;\n",
       "      --disabled-bg-color: #DDD;\n",
       "  }\n",
       "\n",
       "  [theme=dark] .colab-df-quickchart {\n",
       "      --bg-color: #3B4455;\n",
       "      --fill-color: #D2E3FC;\n",
       "      --hover-bg-color: #434B5C;\n",
       "      --hover-fill-color: #FFFFFF;\n",
       "      --disabled-bg-color: #3B4455;\n",
       "      --disabled-fill-color: #666;\n",
       "  }\n",
       "\n",
       "  .colab-df-quickchart {\n",
       "    background-color: var(--bg-color);\n",
       "    border: none;\n",
       "    border-radius: 50%;\n",
       "    cursor: pointer;\n",
       "    display: none;\n",
       "    fill: var(--fill-color);\n",
       "    height: 32px;\n",
       "    padding: 0;\n",
       "    width: 32px;\n",
       "  }\n",
       "\n",
       "  .colab-df-quickchart:hover {\n",
       "    background-color: var(--hover-bg-color);\n",
       "    box-shadow: 0 1px 2px rgba(60, 64, 67, 0.3), 0 1px 3px 1px rgba(60, 64, 67, 0.15);\n",
       "    fill: var(--button-hover-fill-color);\n",
       "  }\n",
       "\n",
       "  .colab-df-quickchart-complete:disabled,\n",
       "  .colab-df-quickchart-complete:disabled:hover {\n",
       "    background-color: var(--disabled-bg-color);\n",
       "    fill: var(--disabled-fill-color);\n",
       "    box-shadow: none;\n",
       "  }\n",
       "\n",
       "  .colab-df-spinner {\n",
       "    border: 2px solid var(--fill-color);\n",
       "    border-color: transparent;\n",
       "    border-bottom-color: var(--fill-color);\n",
       "    animation:\n",
       "      spin 1s steps(1) infinite;\n",
       "  }\n",
       "\n",
       "  @keyframes spin {\n",
       "    0% {\n",
       "      border-color: transparent;\n",
       "      border-bottom-color: var(--fill-color);\n",
       "      border-left-color: var(--fill-color);\n",
       "    }\n",
       "    20% {\n",
       "      border-color: transparent;\n",
       "      border-left-color: var(--fill-color);\n",
       "      border-top-color: var(--fill-color);\n",
       "    }\n",
       "    30% {\n",
       "      border-color: transparent;\n",
       "      border-left-color: var(--fill-color);\n",
       "      border-top-color: var(--fill-color);\n",
       "      border-right-color: var(--fill-color);\n",
       "    }\n",
       "    40% {\n",
       "      border-color: transparent;\n",
       "      border-right-color: var(--fill-color);\n",
       "      border-top-color: var(--fill-color);\n",
       "    }\n",
       "    60% {\n",
       "      border-color: transparent;\n",
       "      border-right-color: var(--fill-color);\n",
       "    }\n",
       "    80% {\n",
       "      border-color: transparent;\n",
       "      border-right-color: var(--fill-color);\n",
       "      border-bottom-color: var(--fill-color);\n",
       "    }\n",
       "    90% {\n",
       "      border-color: transparent;\n",
       "      border-bottom-color: var(--fill-color);\n",
       "    }\n",
       "  }\n",
       "</style>\n",
       "\n",
       "  <script>\n",
       "    async function quickchart(key) {\n",
       "      const quickchartButtonEl =\n",
       "        document.querySelector('#' + key + ' button');\n",
       "      quickchartButtonEl.disabled = true;  // To prevent multiple clicks.\n",
       "      quickchartButtonEl.classList.add('colab-df-spinner');\n",
       "      try {\n",
       "        const charts = await google.colab.kernel.invokeFunction(\n",
       "            'suggestCharts', [key], {});\n",
       "      } catch (error) {\n",
       "        console.error('Error during call to suggestCharts:', error);\n",
       "      }\n",
       "      quickchartButtonEl.classList.remove('colab-df-spinner');\n",
       "      quickchartButtonEl.classList.add('colab-df-quickchart-complete');\n",
       "    }\n",
       "    (() => {\n",
       "      let quickchartButtonEl =\n",
       "        document.querySelector('#df-6d471685-067b-4045-b80a-4e0d5a868a67 button');\n",
       "      quickchartButtonEl.style.display =\n",
       "        google.colab.kernel.accessAllowed ? 'block' : 'none';\n",
       "    })();\n",
       "  </script>\n",
       "</div>\n",
       "\n",
       "    </div>\n",
       "  </div>\n"
      ],
      "text/plain": [
       "   Age  Gender Education_Level Employment_Status  Sleep_Hours  \\\n",
       "0   56    Male      Bachelor's        Unemployed          6.0   \n",
       "1   69  Female      Bachelor's           Retired          8.8   \n",
       "2   46  Female        Master's          Employed          5.3   \n",
       "3   32  Female     High School        Unemployed          8.8   \n",
       "4   60  Female      Bachelor's           Retired          7.2   \n",
       "\n",
       "   Physical_Activity_Hrs  Social_Support_Score  Anxiety_Score  \\\n",
       "0                    0.4                     3              4   \n",
       "1                    2.8                     6             18   \n",
       "2                    1.6                     5              5   \n",
       "3                    0.5                     4              6   \n",
       "4                    0.7                     2              7   \n",
       "\n",
       "   Depression_Score  Stress_Level  ...  Chronic_Illnesses  Medication_Use  \\\n",
       "0                 2             9  ...                  0             NaN   \n",
       "1                 7             6  ...                  0             NaN   \n",
       "2                13             8  ...                  0             NaN   \n",
       "3                 3             4  ...                  1             NaN   \n",
       "4                15             3  ...                  0             NaN   \n",
       "\n",
       "  Therapy  Meditation  Substance_Use Financial_Stress  Work_Stress  \\\n",
       "0       0           1            NaN                4            3   \n",
       "1       1           0            NaN                1            4   \n",
       "2       0           1            NaN                8            7   \n",
       "3       0           0            NaN                7            4   \n",
       "4       1           1       Frequent                8            9   \n",
       "\n",
       "   Self_Esteem_Score  Life_Satisfaction_Score  Loneliness_Score  \n",
       "0                  7                        5                 1  \n",
       "1                  7                        4                 6  \n",
       "2                  8                        1                 1  \n",
       "3                  8                        4                 4  \n",
       "4                  5                        7                 7  \n",
       "\n",
       "[5 rows x 21 columns]"
      ]
     },
     "execution_count": 23,
     "metadata": {},
     "output_type": "execute_result"
    }
   ],
   "source": [
    "df.head()"
   ]
  },
  {
   "cell_type": "code",
   "execution_count": null,
   "metadata": {
    "colab": {
     "base_uri": "https://localhost:8080/",
     "height": 742
    },
    "executionInfo": {
     "elapsed": 27,
     "status": "ok",
     "timestamp": 1743358778043,
     "user": {
      "displayName": "Leandro Fernandes",
      "userId": "07469546857901237394"
     },
     "user_tz": 180
    },
    "id": "rFrpcVQ0XO1s",
    "outputId": "63a318db-4fc9-4939-9c53-515ac89c90ed"
   },
   "outputs": [
    {
     "data": {
      "text/html": [
       "<div>\n",
       "<style scoped>\n",
       "    .dataframe tbody tr th:only-of-type {\n",
       "        vertical-align: middle;\n",
       "    }\n",
       "\n",
       "    .dataframe tbody tr th {\n",
       "        vertical-align: top;\n",
       "    }\n",
       "\n",
       "    .dataframe thead th {\n",
       "        text-align: right;\n",
       "    }\n",
       "</style>\n",
       "<table border=\"1\" class=\"dataframe\">\n",
       "  <thead>\n",
       "    <tr style=\"text-align: right;\">\n",
       "      <th></th>\n",
       "      <th>0</th>\n",
       "    </tr>\n",
       "  </thead>\n",
       "  <tbody>\n",
       "    <tr>\n",
       "      <th>Age</th>\n",
       "      <td>0</td>\n",
       "    </tr>\n",
       "    <tr>\n",
       "      <th>Gender</th>\n",
       "      <td>0</td>\n",
       "    </tr>\n",
       "    <tr>\n",
       "      <th>Education_Level</th>\n",
       "      <td>0</td>\n",
       "    </tr>\n",
       "    <tr>\n",
       "      <th>Employment_Status</th>\n",
       "      <td>0</td>\n",
       "    </tr>\n",
       "    <tr>\n",
       "      <th>Sleep_Hours</th>\n",
       "      <td>0</td>\n",
       "    </tr>\n",
       "    <tr>\n",
       "      <th>Physical_Activity_Hrs</th>\n",
       "      <td>0</td>\n",
       "    </tr>\n",
       "    <tr>\n",
       "      <th>Social_Support_Score</th>\n",
       "      <td>0</td>\n",
       "    </tr>\n",
       "    <tr>\n",
       "      <th>Anxiety_Score</th>\n",
       "      <td>0</td>\n",
       "    </tr>\n",
       "    <tr>\n",
       "      <th>Depression_Score</th>\n",
       "      <td>0</td>\n",
       "    </tr>\n",
       "    <tr>\n",
       "      <th>Stress_Level</th>\n",
       "      <td>0</td>\n",
       "    </tr>\n",
       "    <tr>\n",
       "      <th>Family_History_Mental_Illness</th>\n",
       "      <td>0</td>\n",
       "    </tr>\n",
       "    <tr>\n",
       "      <th>Chronic_Illnesses</th>\n",
       "      <td>0</td>\n",
       "    </tr>\n",
       "    <tr>\n",
       "      <th>Medication_Use</th>\n",
       "      <td>747</td>\n",
       "    </tr>\n",
       "    <tr>\n",
       "      <th>Therapy</th>\n",
       "      <td>0</td>\n",
       "    </tr>\n",
       "    <tr>\n",
       "      <th>Meditation</th>\n",
       "      <td>0</td>\n",
       "    </tr>\n",
       "    <tr>\n",
       "      <th>Substance_Use</th>\n",
       "      <td>834</td>\n",
       "    </tr>\n",
       "    <tr>\n",
       "      <th>Financial_Stress</th>\n",
       "      <td>0</td>\n",
       "    </tr>\n",
       "    <tr>\n",
       "      <th>Work_Stress</th>\n",
       "      <td>0</td>\n",
       "    </tr>\n",
       "    <tr>\n",
       "      <th>Self_Esteem_Score</th>\n",
       "      <td>0</td>\n",
       "    </tr>\n",
       "    <tr>\n",
       "      <th>Life_Satisfaction_Score</th>\n",
       "      <td>0</td>\n",
       "    </tr>\n",
       "    <tr>\n",
       "      <th>Loneliness_Score</th>\n",
       "      <td>0</td>\n",
       "    </tr>\n",
       "  </tbody>\n",
       "</table>\n",
       "</div><br><label><b>dtype:</b> int64</label>"
      ],
      "text/plain": [
       "Age                                0\n",
       "Gender                             0\n",
       "Education_Level                    0\n",
       "Employment_Status                  0\n",
       "Sleep_Hours                        0\n",
       "Physical_Activity_Hrs              0\n",
       "Social_Support_Score               0\n",
       "Anxiety_Score                      0\n",
       "Depression_Score                   0\n",
       "Stress_Level                       0\n",
       "Family_History_Mental_Illness      0\n",
       "Chronic_Illnesses                  0\n",
       "Medication_Use                   747\n",
       "Therapy                            0\n",
       "Meditation                         0\n",
       "Substance_Use                    834\n",
       "Financial_Stress                   0\n",
       "Work_Stress                        0\n",
       "Self_Esteem_Score                  0\n",
       "Life_Satisfaction_Score            0\n",
       "Loneliness_Score                   0\n",
       "dtype: int64"
      ]
     },
     "execution_count": 4,
     "metadata": {},
     "output_type": "execute_result"
    }
   ],
   "source": [
    "df.isnull().sum()"
   ]
  },
  {
   "cell_type": "code",
   "execution_count": null,
   "metadata": {
    "colab": {
     "base_uri": "https://localhost:8080/",
     "height": 178
    },
    "executionInfo": {
     "elapsed": 45,
     "status": "ok",
     "timestamp": 1743358781902,
     "user": {
      "displayName": "Leandro Fernandes",
      "userId": "07469546857901237394"
     },
     "user_tz": 180
    },
    "id": "sFWULwcgVRIo",
    "outputId": "a8fba95f-4781-4333-85d1-ed53433affa0"
   },
   "outputs": [
    {
     "data": {
      "text/html": [
       "<div>\n",
       "<style scoped>\n",
       "    .dataframe tbody tr th:only-of-type {\n",
       "        vertical-align: middle;\n",
       "    }\n",
       "\n",
       "    .dataframe tbody tr th {\n",
       "        vertical-align: top;\n",
       "    }\n",
       "\n",
       "    .dataframe thead th {\n",
       "        text-align: right;\n",
       "    }\n",
       "</style>\n",
       "<table border=\"1\" class=\"dataframe\">\n",
       "  <thead>\n",
       "    <tr style=\"text-align: right;\">\n",
       "      <th></th>\n",
       "      <th>count</th>\n",
       "    </tr>\n",
       "    <tr>\n",
       "      <th>Family_History_Mental_Illness</th>\n",
       "      <th></th>\n",
       "    </tr>\n",
       "  </thead>\n",
       "  <tbody>\n",
       "    <tr>\n",
       "      <th>0</th>\n",
       "      <td>818</td>\n",
       "    </tr>\n",
       "    <tr>\n",
       "      <th>1</th>\n",
       "      <td>382</td>\n",
       "    </tr>\n",
       "  </tbody>\n",
       "</table>\n",
       "</div><br><label><b>dtype:</b> int64</label>"
      ],
      "text/plain": [
       "Family_History_Mental_Illness\n",
       "0    818\n",
       "1    382\n",
       "Name: count, dtype: int64"
      ]
     },
     "execution_count": 5,
     "metadata": {},
     "output_type": "execute_result"
    }
   ],
   "source": [
    " #Contando quantas pessoas tem historico de doenas mentais na familia ( 0 é não 1 é sim)\n",
    " df['Family_History_Mental_Illness'].value_counts()"
   ]
  },
  {
   "cell_type": "code",
   "execution_count": 7,
   "metadata": {
    "colab": {
     "base_uri": "https://localhost:8080/",
     "height": 272
    },
    "executionInfo": {
     "elapsed": 59,
     "status": "ok",
     "timestamp": 1743295072538,
     "user": {
      "displayName": "Leandro Fernandes",
      "userId": "07469546857901237394"
     },
     "user_tz": 180
    },
    "id": "_M8S4sY4e5Nc",
    "outputId": "ff514b82-3908-4537-90dc-8d63b2599fbc"
   },
   "outputs": [
    {
     "data": {
      "text/plain": [
       "Education_Level\n",
       "PhD            262\n",
       "High School    242\n",
       "Master's       242\n",
       "Other          240\n",
       "Bachelor's     214\n",
       "Name: count, dtype: int64"
      ]
     },
     "execution_count": 7,
     "metadata": {},
     "output_type": "execute_result"
    }
   ],
   "source": [
    " df['Education_Level'].value_counts()"
   ]
  },
  {
   "cell_type": "code",
   "execution_count": 8,
   "metadata": {
    "colab": {
     "base_uri": "https://localhost:8080/",
     "height": 241
    },
    "executionInfo": {
     "elapsed": 22,
     "status": "ok",
     "timestamp": 1743295203003,
     "user": {
      "displayName": "Leandro Fernandes",
      "userId": "07469546857901237394"
     },
     "user_tz": 180
    },
    "id": "y3mI2yAffWe7",
    "outputId": "ca2096bc-2c82-44fd-8040-ad74c792952f"
   },
   "outputs": [
    {
     "data": {
      "text/plain": [
       "Employment_Status\n",
       "Employed      320\n",
       "Student       310\n",
       "Unemployed    288\n",
       "Retired       282\n",
       "Name: count, dtype: int64"
      ]
     },
     "execution_count": 8,
     "metadata": {},
     "output_type": "execute_result"
    }
   ],
   "source": [
    " df['Employment_Status'].value_counts()\n"
   ]
  },
  {
   "cell_type": "code",
   "execution_count": null,
   "metadata": {
    "colab": {
     "base_uri": "https://localhost:8080/",
     "height": 489
    },
    "executionInfo": {
     "elapsed": 30,
     "status": "ok",
     "timestamp": 1743297550250,
     "user": {
      "displayName": "Leandro Fernandes",
      "userId": "07469546857901237394"
     },
     "user_tz": 180
    },
    "id": "KOL_1cV2oTpT",
    "outputId": "bfa299c6-9db1-4d04-f9f9-c38d5599e14c"
   },
   "outputs": [
    {
     "data": {
      "text/html": [
       "<div>\n",
       "<style scoped>\n",
       "    .dataframe tbody tr th:only-of-type {\n",
       "        vertical-align: middle;\n",
       "    }\n",
       "\n",
       "    .dataframe tbody tr th {\n",
       "        vertical-align: top;\n",
       "    }\n",
       "\n",
       "    .dataframe thead th {\n",
       "        text-align: right;\n",
       "    }\n",
       "</style>\n",
       "<table border=\"1\" class=\"dataframe\">\n",
       "  <thead>\n",
       "    <tr style=\"text-align: right;\">\n",
       "      <th></th>\n",
       "      <th>count</th>\n",
       "    </tr>\n",
       "    <tr>\n",
       "      <th>Sleep_Hours</th>\n",
       "      <th></th>\n",
       "    </tr>\n",
       "  </thead>\n",
       "  <tbody>\n",
       "    <tr>\n",
       "      <th>6.8</th>\n",
       "      <td>41</td>\n",
       "    </tr>\n",
       "    <tr>\n",
       "      <th>6.4</th>\n",
       "      <td>40</td>\n",
       "    </tr>\n",
       "    <tr>\n",
       "      <th>7.2</th>\n",
       "      <td>40</td>\n",
       "    </tr>\n",
       "    <tr>\n",
       "      <th>5.9</th>\n",
       "      <td>36</td>\n",
       "    </tr>\n",
       "    <tr>\n",
       "      <th>5.7</th>\n",
       "      <td>34</td>\n",
       "    </tr>\n",
       "    <tr>\n",
       "      <th>...</th>\n",
       "      <td>...</td>\n",
       "    </tr>\n",
       "    <tr>\n",
       "      <th>2.6</th>\n",
       "      <td>1</td>\n",
       "    </tr>\n",
       "    <tr>\n",
       "      <th>10.3</th>\n",
       "      <td>1</td>\n",
       "    </tr>\n",
       "    <tr>\n",
       "      <th>10.2</th>\n",
       "      <td>1</td>\n",
       "    </tr>\n",
       "    <tr>\n",
       "      <th>11.4</th>\n",
       "      <td>1</td>\n",
       "    </tr>\n",
       "    <tr>\n",
       "      <th>3.0</th>\n",
       "      <td>1</td>\n",
       "    </tr>\n",
       "  </tbody>\n",
       "</table>\n",
       "<p>85 rows × 1 columns</p>\n",
       "</div><br><label><b>dtype:</b> int64</label>"
      ],
      "text/plain": [
       "Sleep_Hours\n",
       "6.8     41\n",
       "6.4     40\n",
       "7.2     40\n",
       "5.9     36\n",
       "5.7     34\n",
       "        ..\n",
       "2.6      1\n",
       "10.3     1\n",
       "10.2     1\n",
       "11.4     1\n",
       "3.0      1\n",
       "Name: count, Length: 85, dtype: int64"
      ]
     },
     "execution_count": 27,
     "metadata": {},
     "output_type": "execute_result"
    }
   ],
   "source": [
    " df['Sleep_Hours'].value_counts()"
   ]
  },
  {
   "cell_type": "markdown",
   "metadata": {
    "id": "Pw8dZEUgpGms"
   },
   "source": [
    "Quantidade de pessoas que dormem exatamente a quantiade e horas recomendadas"
   ]
  },
  {
   "cell_type": "code",
   "execution_count": 9,
   "metadata": {
    "colab": {
     "base_uri": "https://localhost:8080/"
    },
    "executionInfo": {
     "elapsed": 8,
     "status": "ok",
     "timestamp": 1743358798078,
     "user": {
      "displayName": "Leandro Fernandes",
      "userId": "07469546857901237394"
     },
     "user_tz": 180
    },
    "id": "oxHmQoXAokv0",
    "outputId": "83ab245a-4811-49a4-b587-0c7082b295ba"
   },
   "outputs": [
    {
     "data": {
      "text/plain": [
       "17"
      ]
     },
     "execution_count": 9,
     "metadata": {},
     "output_type": "execute_result"
    }
   ],
   "source": [
    "\n",
    "df[df['Sleep_Hours'] == 8].shape[0]\n",
    "\n"
   ]
  },
  {
   "cell_type": "code",
   "execution_count": 41,
   "metadata": {
    "colab": {
     "base_uri": "https://localhost:8080/"
    },
    "executionInfo": {
     "elapsed": 20,
     "status": "ok",
     "timestamp": 1743362041651,
     "user": {
      "displayName": "Leandro Fernandes",
      "userId": "07469546857901237394"
     },
     "user_tz": 180
    },
    "id": "gi4DkHsedmYi",
    "outputId": "fc4affe0-9900-480d-b10f-5536a2344e00"
   },
   "outputs": [
    {
     "data": {
      "text/plain": [
       "245"
      ]
     },
     "execution_count": 41,
     "metadata": {},
     "output_type": "execute_result"
    }
   ],
   "source": [
    "df[(df['Sleep_Hours'] >= 7) & (df['Sleep_Hours'] < 8)].shape[0]\n"
   ]
  },
  {
   "cell_type": "markdown",
   "metadata": {
    "id": "Yt3JtCMWVOfv"
   },
   "source": [
    "Removendo as linhas com valores nulos da coluna Substance_Use ficamos com 30% das linhas"
   ]
  },
  {
   "cell_type": "code",
   "execution_count": 20,
   "metadata": {
    "colab": {
     "base_uri": "https://localhost:8080/"
    },
    "executionInfo": {
     "elapsed": 21,
     "status": "ok",
     "timestamp": 1743359612060,
     "user": {
      "displayName": "Leandro Fernandes",
      "userId": "07469546857901237394"
     },
     "user_tz": 180
    },
    "id": "0zoD44LHUgmK",
    "outputId": "ab911f92-e655-4733-8e36-bb1b5c97a6bf"
   },
   "outputs": [
    {
     "name": "stdout",
     "output_type": "stream",
     "text": [
      "30%\n"
     ]
    }
   ],
   "source": [
    "print (\"{:.0%}\".format(df1['Substance_Use'].count() /df1.shape[0]))"
   ]
  },
  {
   "cell_type": "markdown",
   "metadata": {
    "id": "-iEg3hIoVcoz"
   },
   "source": [
    "Removendo as linhas com valores nulos da coluna Medication_Use ficamos com 38% dos das linhas"
   ]
  },
  {
   "cell_type": "code",
   "execution_count": 21,
   "metadata": {
    "colab": {
     "base_uri": "https://localhost:8080/"
    },
    "executionInfo": {
     "elapsed": 45,
     "status": "ok",
     "timestamp": 1743359682289,
     "user": {
      "displayName": "Leandro Fernandes",
      "userId": "07469546857901237394"
     },
     "user_tz": 180
    },
    "id": "z0Ow2kagVVur",
    "outputId": "bf82ddb1-84d9-44fe-ec57-185358463ab8"
   },
   "outputs": [
    {
     "name": "stdout",
     "output_type": "stream",
     "text": [
      "38%\n"
     ]
    }
   ],
   "source": [
    "print (\"{:.0%}\".format(df1['Medication_Use'].count() /df1.shape[0]))"
   ]
  },
  {
   "cell_type": "markdown",
   "metadata": {
    "id": "BeyZUtUDVo61"
   },
   "source": [
    "Sendo assim Não faz sendtio remover os nulos, e sim mudar para outro valo, sendo o None"
   ]
  },
  {
   "cell_type": "markdown",
   "metadata": {
    "id": "cR6LleUqftBi"
   },
   "source": [
    "* Employed - Empregado\n",
    "* Student - Estudante\n",
    "* Unemployed - Desempregado\n",
    "* Retired - Aposentado"
   ]
  },
  {
   "cell_type": "code",
   "execution_count": null,
   "metadata": {
    "colab": {
     "base_uri": "https://localhost:8080/",
     "height": 746
    },
    "executionInfo": {
     "elapsed": 535,
     "status": "ok",
     "timestamp": 1743349302240,
     "user": {
      "displayName": "Leandro Fernandes",
      "userId": "07469546857901237394"
     },
     "user_tz": 180
    },
    "id": "ykEm3dJfppnP",
    "outputId": "9d743ca7-2e7e-41ae-87d5-40cdb77ed137"
   },
   "outputs": [
    {
     "data": {
      "image/png": "[encoded data removed]",
      "text/plain": [
       "<Figure size 1100x600 with 2 Axes>"
      ]
     },
     "metadata": {},
     "output_type": "display_data"
    }
   ],
   "source": [
    "plt.figure(figsize=(11,6))\n",
    "sns.heatmap(df.isnull());\n",
    "#isnull detecta qualquer valor nulo, se tivesse algum ia ter um risco branco no gráfico"
   ]
  },
  {
   "cell_type": "markdown",
   "metadata": {
    "id": "JFCE98wAVrjH"
   },
   "source": [
    "#Convertendo valores nulos da coluna Substance_Use em None"
   ]
  },
  {
   "cell_type": "code",
   "execution_count": 1,
   "metadata": {
    "colab": {
     "base_uri": "https://localhost:8080/"
    },
    "executionInfo": {
     "elapsed": 14,
     "status": "ok",
     "timestamp": 1743360266042,
     "user": {
      "displayName": "Leandro Fernandes",
      "userId": "07469546857901237394"
     },
     "user_tz": 180
    },
    "id": "_14tOkjAsMiD",
    "outputId": "c7124d8e-ae82-4604-8d3b-f65120d1c14b"
   },
   "outputs": [
    {
     "ename": "NameError",
     "evalue": "name 'df' is not defined",
     "output_type": "error",
     "traceback": [
      "\u001b[1;31m---------------------------------------------------------------------------\u001b[0m",
      "\u001b[1;31mNameError\u001b[0m                                 Traceback (most recent call last)",
      "Cell \u001b[1;32mIn[1], line 1\u001b[0m\n\u001b[1;32m----> 1\u001b[0m df[\u001b[38;5;124m'\u001b[39m\u001b[38;5;124mSubstance_Use\u001b[39m\u001b[38;5;124m'\u001b[39m] \u001b[38;5;241m=\u001b[39m \u001b[43mdf\u001b[49m[\u001b[38;5;124m'\u001b[39m\u001b[38;5;124mSubstance_Use\u001b[39m\u001b[38;5;124m'\u001b[39m]\u001b[38;5;241m.\u001b[39mfillna(\u001b[38;5;124m'\u001b[39m\u001b[38;5;124mNo\u001b[39m\u001b[38;5;124m'\u001b[39m)\n",
      "\u001b[1;31mNameError\u001b[0m: name 'df' is not defined"
     ]
    }
   ],
   "source": [
    "df['Substance_Use'] = df['Substance_Use'].fillna('No')\n",
    "\n"
   ]
  },
  {
   "cell_type": "code",
   "execution_count": 23,
   "metadata": {
    "colab": {
     "base_uri": "https://localhost:8080/",
     "height": 209
    },
    "executionInfo": {
     "elapsed": 16,
     "status": "ok",
     "timestamp": 1743360268292,
     "user": {
      "displayName": "Leandro Fernandes",
      "userId": "07469546857901237394"
     },
     "user_tz": 180
    },
    "id": "1gx5VuKIrLnK",
    "outputId": "528ce661-7c13-4a04-8dda-584243ee4781"
   },
   "outputs": [
    {
     "data": {
      "text/html": [
       "<div>\n",
       "<style scoped>\n",
       "    .dataframe tbody tr th:only-of-type {\n",
       "        vertical-align: middle;\n",
       "    }\n",
       "\n",
       "    .dataframe tbody tr th {\n",
       "        vertical-align: top;\n",
       "    }\n",
       "\n",
       "    .dataframe thead th {\n",
       "        text-align: right;\n",
       "    }\n",
       "</style>\n",
       "<table border=\"1\" class=\"dataframe\">\n",
       "  <thead>\n",
       "    <tr style=\"text-align: right;\">\n",
       "      <th></th>\n",
       "      <th>count</th>\n",
       "    </tr>\n",
       "    <tr>\n",
       "      <th>Substance_Use</th>\n",
       "      <th></th>\n",
       "    </tr>\n",
       "  </thead>\n",
       "  <tbody>\n",
       "    <tr>\n",
       "      <th>No</th>\n",
       "      <td>834</td>\n",
       "    </tr>\n",
       "    <tr>\n",
       "      <th>Occasional</th>\n",
       "      <td>242</td>\n",
       "    </tr>\n",
       "    <tr>\n",
       "      <th>Frequent</th>\n",
       "      <td>124</td>\n",
       "    </tr>\n",
       "  </tbody>\n",
       "</table>\n",
       "</div><br><label><b>dtype:</b> int64</label>"
      ],
      "text/plain": [
       "Substance_Use\n",
       "No            834\n",
       "Occasional    242\n",
       "Frequent      124\n",
       "Name: count, dtype: int64"
      ]
     },
     "execution_count": 23,
     "metadata": {},
     "output_type": "execute_result"
    }
   ],
   "source": [
    "   df['Substance_Use'].value_counts()"
   ]
  },
  {
   "cell_type": "markdown",
   "metadata": {
    "id": "KAuGwl37V3WJ"
   },
   "source": [
    "#Convertendo valores nulos da coluna Medication_Use em None"
   ]
  },
  {
   "cell_type": "code",
   "execution_count": null,
   "metadata": {
    "colab": {
     "base_uri": "https://localhost:8080/"
    },
    "executionInfo": {
     "elapsed": 6,
     "status": "ok",
     "timestamp": 1743360271153,
     "user": {
      "displayName": "Leandro Fernandes",
      "userId": "07469546857901237394"
     },
     "user_tz": 180
    },
    "id": "j1WAf_YNsPHH",
    "outputId": "8f93fa81-23d2-4ba3-e96c-69f1f2fc3c52"
   },
   "outputs": [
    {
     "name": "stderr",
     "output_type": "stream",
     "text": [
      "<ipython-input-24-d9072bdc83b6>:1: FutureWarning: A value is trying to be set on a copy of a DataFrame or Series through chained assignment using an inplace method.\n",
      "The behavior will change in pandas 3.0. This inplace method will never work because the intermediate object on which we are setting values always behaves as a copy.\n",
      "\n",
      "For example, when doing 'df[col].method(value, inplace=True)', try using 'df.method({col: value}, inplace=True)' or df[col] = df[col].method(value) instead, to perform the operation inplace on the original object.\n",
      "\n",
      "\n",
      "  df['Medication_Use'].fillna('No', inplace=True)\n"
     ]
    }
   ],
   "source": [
    "df['Medication_Use'] = df['Medication_Use'].fillna('No')\n",
    "\n"
   ]
  },
  {
   "cell_type": "code",
   "execution_count": 25,
   "metadata": {
    "colab": {
     "base_uri": "https://localhost:8080/",
     "height": 209
    },
    "executionInfo": {
     "elapsed": 20,
     "status": "ok",
     "timestamp": 1743360273333,
     "user": {
      "displayName": "Leandro Fernandes",
      "userId": "07469546857901237394"
     },
     "user_tz": 180
    },
    "id": "mu9xbkfnSN5x",
    "outputId": "11118074-bc90-42e8-d64f-21bd3173d743"
   },
   "outputs": [
    {
     "data": {
      "text/html": [
       "<div>\n",
       "<style scoped>\n",
       "    .dataframe tbody tr th:only-of-type {\n",
       "        vertical-align: middle;\n",
       "    }\n",
       "\n",
       "    .dataframe tbody tr th {\n",
       "        vertical-align: top;\n",
       "    }\n",
       "\n",
       "    .dataframe thead th {\n",
       "        text-align: right;\n",
       "    }\n",
       "</style>\n",
       "<table border=\"1\" class=\"dataframe\">\n",
       "  <thead>\n",
       "    <tr style=\"text-align: right;\">\n",
       "      <th></th>\n",
       "      <th>count</th>\n",
       "    </tr>\n",
       "    <tr>\n",
       "      <th>Medication_Use</th>\n",
       "      <th></th>\n",
       "    </tr>\n",
       "  </thead>\n",
       "  <tbody>\n",
       "    <tr>\n",
       "      <th>No</th>\n",
       "      <td>747</td>\n",
       "    </tr>\n",
       "    <tr>\n",
       "      <th>Regular</th>\n",
       "      <td>238</td>\n",
       "    </tr>\n",
       "    <tr>\n",
       "      <th>Occasional</th>\n",
       "      <td>215</td>\n",
       "    </tr>\n",
       "  </tbody>\n",
       "</table>\n",
       "</div><br><label><b>dtype:</b> int64</label>"
      ],
      "text/plain": [
       "Medication_Use\n",
       "No            747\n",
       "Regular       238\n",
       "Occasional    215\n",
       "Name: count, dtype: int64"
      ]
     },
     "execution_count": 25,
     "metadata": {},
     "output_type": "execute_result"
    }
   ],
   "source": [
    "   df['Medication_Use'].value_counts()"
   ]
  },
  {
   "cell_type": "code",
   "execution_count": null,
   "metadata": {
    "colab": {
     "base_uri": "https://localhost:8080/",
     "height": 255
    },
    "executionInfo": {
     "elapsed": 25,
     "status": "ok",
     "timestamp": 1743298696192,
     "user": {
      "displayName": "Leandro Fernandes",
      "userId": "07469546857901237394"
     },
     "user_tz": 180
    },
    "id": "xZ5kQ1C9svMI",
    "outputId": "ac6abb31-a589-4a51-e945-b8d4d848754c"
   },
   "outputs": [
    {
     "data": {
      "application/vnd.google.colaboratory.intrinsic+json": {
       "type": "dataframe",
       "variable_name": "df"
      },
      "text/html": [
       "\n",
       "  <div id=\"df-31a81f61-1785-460b-bfc5-d75dee990c8b\" class=\"colab-df-container\">\n",
       "    <div>\n",
       "<style scoped>\n",
       "    .dataframe tbody tr th:only-of-type {\n",
       "        vertical-align: middle;\n",
       "    }\n",
       "\n",
       "    .dataframe tbody tr th {\n",
       "        vertical-align: top;\n",
       "    }\n",
       "\n",
       "    .dataframe thead th {\n",
       "        text-align: right;\n",
       "    }\n",
       "</style>\n",
       "<table border=\"1\" class=\"dataframe\">\n",
       "  <thead>\n",
       "    <tr style=\"text-align: right;\">\n",
       "      <th></th>\n",
       "      <th>Age</th>\n",
       "      <th>Gender</th>\n",
       "      <th>Education_Level</th>\n",
       "      <th>Employment_Status</th>\n",
       "      <th>Sleep_Hours</th>\n",
       "      <th>Physical_Activity_Hrs</th>\n",
       "      <th>Social_Support_Score</th>\n",
       "      <th>Anxiety_Score</th>\n",
       "      <th>Depression_Score</th>\n",
       "      <th>Stress_Level</th>\n",
       "      <th>...</th>\n",
       "      <th>Chronic_Illnesses</th>\n",
       "      <th>Medication_Use</th>\n",
       "      <th>Therapy</th>\n",
       "      <th>Meditation</th>\n",
       "      <th>Substance_Use</th>\n",
       "      <th>Financial_Stress</th>\n",
       "      <th>Work_Stress</th>\n",
       "      <th>Self_Esteem_Score</th>\n",
       "      <th>Life_Satisfaction_Score</th>\n",
       "      <th>Loneliness_Score</th>\n",
       "    </tr>\n",
       "  </thead>\n",
       "  <tbody>\n",
       "    <tr>\n",
       "      <th>0</th>\n",
       "      <td>56</td>\n",
       "      <td>Male</td>\n",
       "      <td>Bachelor's</td>\n",
       "      <td>Unemployed</td>\n",
       "      <td>6.0</td>\n",
       "      <td>0.4</td>\n",
       "      <td>3</td>\n",
       "      <td>4</td>\n",
       "      <td>2</td>\n",
       "      <td>9</td>\n",
       "      <td>...</td>\n",
       "      <td>0</td>\n",
       "      <td>None</td>\n",
       "      <td>0</td>\n",
       "      <td>1</td>\n",
       "      <td>None</td>\n",
       "      <td>4</td>\n",
       "      <td>3</td>\n",
       "      <td>7</td>\n",
       "      <td>5</td>\n",
       "      <td>1</td>\n",
       "    </tr>\n",
       "    <tr>\n",
       "      <th>1</th>\n",
       "      <td>69</td>\n",
       "      <td>Female</td>\n",
       "      <td>Bachelor's</td>\n",
       "      <td>Retired</td>\n",
       "      <td>8.8</td>\n",
       "      <td>2.8</td>\n",
       "      <td>6</td>\n",
       "      <td>18</td>\n",
       "      <td>7</td>\n",
       "      <td>6</td>\n",
       "      <td>...</td>\n",
       "      <td>0</td>\n",
       "      <td>None</td>\n",
       "      <td>1</td>\n",
       "      <td>0</td>\n",
       "      <td>None</td>\n",
       "      <td>1</td>\n",
       "      <td>4</td>\n",
       "      <td>7</td>\n",
       "      <td>4</td>\n",
       "      <td>6</td>\n",
       "    </tr>\n",
       "    <tr>\n",
       "      <th>2</th>\n",
       "      <td>46</td>\n",
       "      <td>Female</td>\n",
       "      <td>Master's</td>\n",
       "      <td>Employed</td>\n",
       "      <td>5.3</td>\n",
       "      <td>1.6</td>\n",
       "      <td>5</td>\n",
       "      <td>5</td>\n",
       "      <td>13</td>\n",
       "      <td>8</td>\n",
       "      <td>...</td>\n",
       "      <td>0</td>\n",
       "      <td>None</td>\n",
       "      <td>0</td>\n",
       "      <td>1</td>\n",
       "      <td>None</td>\n",
       "      <td>8</td>\n",
       "      <td>7</td>\n",
       "      <td>8</td>\n",
       "      <td>1</td>\n",
       "      <td>1</td>\n",
       "    </tr>\n",
       "    <tr>\n",
       "      <th>3</th>\n",
       "      <td>32</td>\n",
       "      <td>Female</td>\n",
       "      <td>High School</td>\n",
       "      <td>Unemployed</td>\n",
       "      <td>8.8</td>\n",
       "      <td>0.5</td>\n",
       "      <td>4</td>\n",
       "      <td>6</td>\n",
       "      <td>3</td>\n",
       "      <td>4</td>\n",
       "      <td>...</td>\n",
       "      <td>1</td>\n",
       "      <td>None</td>\n",
       "      <td>0</td>\n",
       "      <td>0</td>\n",
       "      <td>None</td>\n",
       "      <td>7</td>\n",
       "      <td>4</td>\n",
       "      <td>8</td>\n",
       "      <td>4</td>\n",
       "      <td>4</td>\n",
       "    </tr>\n",
       "    <tr>\n",
       "      <th>4</th>\n",
       "      <td>60</td>\n",
       "      <td>Female</td>\n",
       "      <td>Bachelor's</td>\n",
       "      <td>Retired</td>\n",
       "      <td>7.2</td>\n",
       "      <td>0.7</td>\n",
       "      <td>2</td>\n",
       "      <td>7</td>\n",
       "      <td>15</td>\n",
       "      <td>3</td>\n",
       "      <td>...</td>\n",
       "      <td>0</td>\n",
       "      <td>None</td>\n",
       "      <td>1</td>\n",
       "      <td>1</td>\n",
       "      <td>Frequent</td>\n",
       "      <td>8</td>\n",
       "      <td>9</td>\n",
       "      <td>5</td>\n",
       "      <td>7</td>\n",
       "      <td>7</td>\n",
       "    </tr>\n",
       "  </tbody>\n",
       "</table>\n",
       "<p>5 rows × 21 columns</p>\n",
       "</div>\n",
       "    <div class=\"colab-df-buttons\">\n",
       "\n",
       "  <div class=\"colab-df-container\">\n",
       "    <button class=\"colab-df-convert\" onclick=\"convertToInteractive('df-31a81f61-1785-460b-bfc5-d75dee990c8b')\"\n",
       "            title=\"Convert this dataframe to an interactive table.\"\n",
       "            style=\"display:none;\">\n",
       "\n",
       "  <svg xmlns=\"http://www.w3.org/2000/svg\" height=\"24px\" viewBox=\"0 -960 960 960\">\n",
       "    <path d=\"M120-120v-720h720v720H120Zm60-500h600v-160H180v160Zm220 220h160v-160H400v160Zm0 220h160v-160H400v160ZM180-400h160v-160H180v160Zm440 0h160v-160H620v160ZM180-180h160v-160H180v160Zm440 0h160v-160H620v160Z\"/>\n",
       "  </svg>\n",
       "    </button>\n",
       "\n",
       "  <style>\n",
       "    .colab-df-container {\n",
       "      display:flex;\n",
       "      gap: 12px;\n",
       "    }\n",
       "\n",
       "    .colab-df-convert {\n",
       "      background-color: #E8F0FE;\n",
       "      border: none;\n",
       "      border-radius: 50%;\n",
       "      cursor: pointer;\n",
       "      display: none;\n",
       "      fill: #1967D2;\n",
       "      height: 32px;\n",
       "      padding: 0 0 0 0;\n",
       "      width: 32px;\n",
       "    }\n",
       "\n",
       "    .colab-df-convert:hover {\n",
       "      background-color: #E2EBFA;\n",
       "      box-shadow: 0px 1px 2px rgba(60, 64, 67, 0.3), 0px 1px 3px 1px rgba(60, 64, 67, 0.15);\n",
       "      fill: #174EA6;\n",
       "    }\n",
       "\n",
       "    .colab-df-buttons div {\n",
       "      margin-bottom: 4px;\n",
       "    }\n",
       "\n",
       "    [theme=dark] .colab-df-convert {\n",
       "      background-color: #3B4455;\n",
       "      fill: #D2E3FC;\n",
       "    }\n",
       "\n",
       "    [theme=dark] .colab-df-convert:hover {\n",
       "      background-color: #434B5C;\n",
       "      box-shadow: 0px 1px 3px 1px rgba(0, 0, 0, 0.15);\n",
       "      filter: drop-shadow(0px 1px 2px rgba(0, 0, 0, 0.3));\n",
       "      fill: #FFFFFF;\n",
       "    }\n",
       "  </style>\n",
       "\n",
       "    <script>\n",
       "      const buttonEl =\n",
       "        document.querySelector('#df-31a81f61-1785-460b-bfc5-d75dee990c8b button.colab-df-convert');\n",
       "      buttonEl.style.display =\n",
       "        google.colab.kernel.accessAllowed ? 'block' : 'none';\n",
       "\n",
       "      async function convertToInteractive(key) {\n",
       "        const element = document.querySelector('#df-31a81f61-1785-460b-bfc5-d75dee990c8b');\n",
       "        const dataTable =\n",
       "          await google.colab.kernel.invokeFunction('convertToInteractive',\n",
       "                                                    [key], {});\n",
       "        if (!dataTable) return;\n",
       "\n",
       "        const docLinkHtml = 'Like what you see? Visit the ' +\n",
       "          '<a target=\"_blank\" href=https://colab.research.google.com/notebooks/data_table.ipynb>data table notebook</a>'\n",
       "          + ' to learn more about interactive tables.';\n",
       "        element.innerHTML = '';\n",
       "        dataTable['output_type'] = 'display_data';\n",
       "        await google.colab.output.renderOutput(dataTable, element);\n",
       "        const docLink = document.createElement('div');\n",
       "        docLink.innerHTML = docLinkHtml;\n",
       "        element.appendChild(docLink);\n",
       "      }\n",
       "    </script>\n",
       "  </div>\n",
       "\n",
       "\n",
       "<div id=\"df-bda1d691-dbdc-4d3d-a426-fdd84dfb19bc\">\n",
       "  <button class=\"colab-df-quickchart\" onclick=\"quickchart('df-bda1d691-dbdc-4d3d-a426-fdd84dfb19bc')\"\n",
       "            title=\"Suggest charts\"\n",
       "            style=\"display:none;\">\n",
       "\n",
       "<svg xmlns=\"http://www.w3.org/2000/svg\" height=\"24px\"viewBox=\"0 0 24 24\"\n",
       "     width=\"24px\">\n",
       "    <g>\n",
       "        <path d=\"M19 3H5c-1.1 0-2 .9-2 2v14c0 1.1.9 2 2 2h14c1.1 0 2-.9 2-2V5c0-1.1-.9-2-2-2zM9 17H7v-7h2v7zm4 0h-2V7h2v10zm4 0h-2v-4h2v4z\"/>\n",
       "    </g>\n",
       "</svg>\n",
       "  </button>\n",
       "\n",
       "<style>\n",
       "  .colab-df-quickchart {\n",
       "      --bg-color: #E8F0FE;\n",
       "      --fill-color: #1967D2;\n",
       "      --hover-bg-color: #E2EBFA;\n",
       "      --hover-fill-color: #174EA6;\n",
       "      --disabled-fill-color: #AAA;\n",
       "      --disabled-bg-color: #DDD;\n",
       "  }\n",
       "\n",
       "  [theme=dark] .colab-df-quickchart {\n",
       "      --bg-color: #3B4455;\n",
       "      --fill-color: #D2E3FC;\n",
       "      --hover-bg-color: #434B5C;\n",
       "      --hover-fill-color: #FFFFFF;\n",
       "      --disabled-bg-color: #3B4455;\n",
       "      --disabled-fill-color: #666;\n",
       "  }\n",
       "\n",
       "  .colab-df-quickchart {\n",
       "    background-color: var(--bg-color);\n",
       "    border: none;\n",
       "    border-radius: 50%;\n",
       "    cursor: pointer;\n",
       "    display: none;\n",
       "    fill: var(--fill-color);\n",
       "    height: 32px;\n",
       "    padding: 0;\n",
       "    width: 32px;\n",
       "  }\n",
       "\n",
       "  .colab-df-quickchart:hover {\n",
       "    background-color: var(--hover-bg-color);\n",
       "    box-shadow: 0 1px 2px rgba(60, 64, 67, 0.3), 0 1px 3px 1px rgba(60, 64, 67, 0.15);\n",
       "    fill: var(--button-hover-fill-color);\n",
       "  }\n",
       "\n",
       "  .colab-df-quickchart-complete:disabled,\n",
       "  .colab-df-quickchart-complete:disabled:hover {\n",
       "    background-color: var(--disabled-bg-color);\n",
       "    fill: var(--disabled-fill-color);\n",
       "    box-shadow: none;\n",
       "  }\n",
       "\n",
       "  .colab-df-spinner {\n",
       "    border: 2px solid var(--fill-color);\n",
       "    border-color: transparent;\n",
       "    border-bottom-color: var(--fill-color);\n",
       "    animation:\n",
       "      spin 1s steps(1) infinite;\n",
       "  }\n",
       "\n",
       "  @keyframes spin {\n",
       "    0% {\n",
       "      border-color: transparent;\n",
       "      border-bottom-color: var(--fill-color);\n",
       "      border-left-color: var(--fill-color);\n",
       "    }\n",
       "    20% {\n",
       "      border-color: transparent;\n",
       "      border-left-color: var(--fill-color);\n",
       "      border-top-color: var(--fill-color);\n",
       "    }\n",
       "    30% {\n",
       "      border-color: transparent;\n",
       "      border-left-color: var(--fill-color);\n",
       "      border-top-color: var(--fill-color);\n",
       "      border-right-color: var(--fill-color);\n",
       "    }\n",
       "    40% {\n",
       "      border-color: transparent;\n",
       "      border-right-color: var(--fill-color);\n",
       "      border-top-color: var(--fill-color);\n",
       "    }\n",
       "    60% {\n",
       "      border-color: transparent;\n",
       "      border-right-color: var(--fill-color);\n",
       "    }\n",
       "    80% {\n",
       "      border-color: transparent;\n",
       "      border-right-color: var(--fill-color);\n",
       "      border-bottom-color: var(--fill-color);\n",
       "    }\n",
       "    90% {\n",
       "      border-color: transparent;\n",
       "      border-bottom-color: var(--fill-color);\n",
       "    }\n",
       "  }\n",
       "</style>\n",
       "\n",
       "  <script>\n",
       "    async function quickchart(key) {\n",
       "      const quickchartButtonEl =\n",
       "        document.querySelector('#' + key + ' button');\n",
       "      quickchartButtonEl.disabled = true;  // To prevent multiple clicks.\n",
       "      quickchartButtonEl.classList.add('colab-df-spinner');\n",
       "      try {\n",
       "        const charts = await google.colab.kernel.invokeFunction(\n",
       "            'suggestCharts', [key], {});\n",
       "      } catch (error) {\n",
       "        console.error('Error during call to suggestCharts:', error);\n",
       "      }\n",
       "      quickchartButtonEl.classList.remove('colab-df-spinner');\n",
       "      quickchartButtonEl.classList.add('colab-df-quickchart-complete');\n",
       "    }\n",
       "    (() => {\n",
       "      let quickchartButtonEl =\n",
       "        document.querySelector('#df-bda1d691-dbdc-4d3d-a426-fdd84dfb19bc button');\n",
       "      quickchartButtonEl.style.display =\n",
       "        google.colab.kernel.accessAllowed ? 'block' : 'none';\n",
       "    })();\n",
       "  </script>\n",
       "</div>\n",
       "\n",
       "    </div>\n",
       "  </div>\n"
      ],
      "text/plain": [
       "   Age  Gender Education_Level Employment_Status  Sleep_Hours  \\\n",
       "0   56    Male      Bachelor's        Unemployed          6.0   \n",
       "1   69  Female      Bachelor's           Retired          8.8   \n",
       "2   46  Female        Master's          Employed          5.3   \n",
       "3   32  Female     High School        Unemployed          8.8   \n",
       "4   60  Female      Bachelor's           Retired          7.2   \n",
       "\n",
       "   Physical_Activity_Hrs  Social_Support_Score  Anxiety_Score  \\\n",
       "0                    0.4                     3              4   \n",
       "1                    2.8                     6             18   \n",
       "2                    1.6                     5              5   \n",
       "3                    0.5                     4              6   \n",
       "4                    0.7                     2              7   \n",
       "\n",
       "   Depression_Score  Stress_Level  ...  Chronic_Illnesses  Medication_Use  \\\n",
       "0                 2             9  ...                  0            None   \n",
       "1                 7             6  ...                  0            None   \n",
       "2                13             8  ...                  0            None   \n",
       "3                 3             4  ...                  1            None   \n",
       "4                15             3  ...                  0            None   \n",
       "\n",
       "  Therapy  Meditation  Substance_Use Financial_Stress  Work_Stress  \\\n",
       "0       0           1           None                4            3   \n",
       "1       1           0           None                1            4   \n",
       "2       0           1           None                8            7   \n",
       "3       0           0           None                7            4   \n",
       "4       1           1       Frequent                8            9   \n",
       "\n",
       "   Self_Esteem_Score  Life_Satisfaction_Score  Loneliness_Score  \n",
       "0                  7                        5                 1  \n",
       "1                  7                        4                 6  \n",
       "2                  8                        1                 1  \n",
       "3                  8                        4                 4  \n",
       "4                  5                        7                 7  \n",
       "\n",
       "[5 rows x 21 columns]"
      ]
     },
     "execution_count": 39,
     "metadata": {},
     "output_type": "execute_result"
    }
   ],
   "source": [
    "df.head()"
   ]
  },
  {
   "cell_type": "code",
   "execution_count": 26,
   "metadata": {
    "colab": {
     "base_uri": "https://localhost:8080/"
    },
    "executionInfo": {
     "elapsed": 65,
     "status": "ok",
     "timestamp": 1743360538968,
     "user": {
      "displayName": "Leandro Fernandes",
      "userId": "07469546857901237394"
     },
     "user_tz": 180
    },
    "id": "tz6whcLXYqXU",
    "outputId": "69d82815-9705-4641-8a55-6dc381245da9"
   },
   "outputs": [
    {
     "name": "stdout",
     "output_type": "stream",
     "text": [
      "<class 'pandas.core.frame.DataFrame'>\n",
      "RangeIndex: 1200 entries, 0 to 1199\n",
      "Data columns (total 21 columns):\n",
      " #   Column                         Non-Null Count  Dtype  \n",
      "---  ------                         --------------  -----  \n",
      " 0   Age                            1200 non-null   int64  \n",
      " 1   Gender                         1200 non-null   object \n",
      " 2   Education_Level                1200 non-null   object \n",
      " 3   Employment_Status              1200 non-null   object \n",
      " 4   Sleep_Hours                    1200 non-null   float64\n",
      " 5   Physical_Activity_Hrs          1200 non-null   float64\n",
      " 6   Social_Support_Score           1200 non-null   int64  \n",
      " 7   Anxiety_Score                  1200 non-null   int64  \n",
      " 8   Depression_Score               1200 non-null   int64  \n",
      " 9   Stress_Level                   1200 non-null   int64  \n",
      " 10  Family_History_Mental_Illness  1200 non-null   int64  \n",
      " 11  Chronic_Illnesses              1200 non-null   int64  \n",
      " 12  Medication_Use                 1200 non-null   object \n",
      " 13  Therapy                        1200 non-null   int64  \n",
      " 14  Meditation                     1200 non-null   int64  \n",
      " 15  Substance_Use                  1200 non-null   object \n",
      " 16  Financial_Stress               1200 non-null   int64  \n",
      " 17  Work_Stress                    1200 non-null   int64  \n",
      " 18  Self_Esteem_Score              1200 non-null   int64  \n",
      " 19  Life_Satisfaction_Score        1200 non-null   int64  \n",
      " 20  Loneliness_Score               1200 non-null   int64  \n",
      "dtypes: float64(2), int64(14), object(5)\n",
      "memory usage: 197.0+ KB\n"
     ]
    }
   ],
   "source": [
    "df.info()\n",
    "#todas as colunas com o msm valor de linhas 1200, resolvemos os dados nulos"
   ]
  },
  {
   "cell_type": "code",
   "execution_count": null,
   "metadata": {
    "colab": {
     "base_uri": "https://localhost:8080/",
     "height": 746
    },
    "executionInfo": {
     "elapsed": 1120,
     "status": "ok",
     "timestamp": 1743298723819,
     "user": {
      "displayName": "Leandro Fernandes",
      "userId": "07469546857901237394"
     },
     "user_tz": 180
    },
    "id": "fx0SQffPs29l",
    "outputId": "cf64fd44-c2d4-47fe-f075-23647e2ef311"
   },
   "outputs": [
    {
     "data": {
      "image/png": "[encoded data removed]",
      "text/plain": [
       "<Figure size 1100x600 with 2 Axes>"
      ]
     },
     "metadata": {},
     "output_type": "display_data"
    }
   ],
   "source": [
    "plt.figure(figsize=(11,6))\n",
    "sns.heatmap(df.isnull());\n",
    "#isnull detecta qualquer valor nulo, se tivesse algum ia ter um risco branco no gráfico"
   ]
  },
  {
   "cell_type": "markdown",
   "metadata": {
    "id": "gsKIyh_CZ9Oj"
   },
   "source": [
    "#Análise exploratóoria"
   ]
  },
  {
   "cell_type": "code",
   "execution_count": null,
   "metadata": {
    "colab": {
     "base_uri": "https://localhost:8080/"
    },
    "executionInfo": {
     "elapsed": 23,
     "status": "ok",
     "timestamp": 1743299273820,
     "user": {
      "displayName": "Leandro Fernandes",
      "userId": "07469546857901237394"
     },
     "user_tz": 180
    },
    "id": "3Mw2bHEnu9ZH",
    "outputId": "fda95bb4-9881-4148-8c66-62a4ceb15306"
   },
   "outputs": [
    {
     "name": "stdout",
     "output_type": "stream",
     "text": [
      "-0.015034507209596367\n"
     ]
    }
   ],
   "source": [
    "correlacao = df['Anxiety_Score'].corr(df['Stress_Level'])\n",
    "print(correlacao)\n"
   ]
  },
  {
   "cell_type": "code",
   "execution_count": null,
   "metadata": {
    "colab": {
     "base_uri": "https://localhost:8080/"
    },
    "executionInfo": {
     "elapsed": 8,
     "status": "ok",
     "timestamp": 1743299355893,
     "user": {
      "displayName": "Leandro Fernandes",
      "userId": "07469546857901237394"
     },
     "user_tz": 180
    },
    "id": "pM1cyyovvNSJ",
    "outputId": "bb314034-02b1-45f3-b52d-771e8d4dea33"
   },
   "outputs": [
    {
     "data": {
      "text/plain": [
       "array([[ 1.        , -0.01503451],\n",
       "       [-0.01503451,  1.        ]])"
      ]
     },
     "execution_count": 45,
     "metadata": {},
     "output_type": "execute_result"
    }
   ],
   "source": [
    "#corrcoef mostra a correlação entre variáveis\n",
    "Correlacao=np.corrcoef(df['Anxiety_Score'],df['Stress_Level'])\n",
    "Correlacao\n",
    "#Correlação de 0.99"
   ]
  },
  {
   "cell_type": "code",
   "execution_count": null,
   "metadata": {
    "colab": {
     "base_uri": "https://localhost:8080/"
    },
    "executionInfo": {
     "elapsed": 50,
     "status": "ok",
     "timestamp": 1743299652465,
     "user": {
      "displayName": "Leandro Fernandes",
      "userId": "07469546857901237394"
     },
     "user_tz": 180
    },
    "id": "y72uVKPNwRlH",
    "outputId": "7d32db28-c53a-48e1-dbda-7037cefa557b"
   },
   "outputs": [
    {
     "name": "stdout",
     "output_type": "stream",
     "text": [
      "Stress_Level                     1.000000\n",
      "Meditation                       0.039972\n",
      "Social_Support_Score             0.035788\n",
      "Self_Esteem_Score                0.011803\n",
      "Therapy                          0.005475\n",
      "Age                              0.003409\n",
      "Sleep_Hours                     -0.000316\n",
      "Financial_Stress                -0.007481\n",
      "Work_Stress                     -0.007726\n",
      "Loneliness_Score                -0.012158\n",
      "Depression_Score                -0.013922\n",
      "Anxiety_Score                   -0.015035\n",
      "Chronic_Illnesses               -0.020974\n",
      "Physical_Activity_Hrs           -0.041504\n",
      "Life_Satisfaction_Score         -0.047067\n",
      "Family_History_Mental_Illness   -0.070732\n",
      "Name: Stress_Level, dtype: float64\n"
     ]
    }
   ],
   "source": [
    "# Selecionando apenas as colunas numéricas\n",
    "df_numerico = df.select_dtypes(include=['number'])\n",
    "\n",
    "# Calculando a correlação de Pearson entre 'Stress_Level' e as outras variáveis numéricas\n",
    "correlacoes = df_numerico.corr()['Stress_Level'].sort_values(ascending=False)\n",
    "\n",
    "# Exibindo as correlações\n",
    "print(correlacoes)\n"
   ]
  },
  {
   "cell_type": "code",
   "execution_count": null,
   "metadata": {
    "colab": {
     "base_uri": "https://localhost:8080/"
    },
    "executionInfo": {
     "elapsed": 16,
     "status": "ok",
     "timestamp": 1743343387646,
     "user": {
      "displayName": "Leandro Fernandes",
      "userId": "07469546857901237394"
     },
     "user_tz": 180
    },
    "id": "xjZo5Z_bXF1s",
    "outputId": "abe17465-dd43-4f36-ea6d-00f06c3c1119"
   },
   "outputs": [
    {
     "name": "stdout",
     "output_type": "stream",
     "text": [
      "Work_Stress                      1.000000\n",
      "Loneliness_Score                 0.058510\n",
      "Self_Esteem_Score                0.035870\n",
      "Sleep_Hours                      0.026156\n",
      "Physical_Activity_Hrs            0.020032\n",
      "Age                              0.016585\n",
      "Life_Satisfaction_Score          0.010188\n",
      "Meditation                       0.010085\n",
      "Chronic_Illnesses                0.000427\n",
      "Anxiety_Score                   -0.002243\n",
      "Depression_Score                -0.004496\n",
      "Stress_Level                    -0.007726\n",
      "Therapy                         -0.011307\n",
      "Social_Support_Score            -0.020698\n",
      "Family_History_Mental_Illness   -0.035598\n",
      "Financial_Stress                -0.071406\n",
      "Name: Work_Stress, dtype: float64\n"
     ]
    }
   ],
   "source": [
    "# Selecionando apenas as colunas numéricas\n",
    "df_numerico = df.select_dtypes(include=['number'])\n",
    "\n",
    "# Calculando a correlação de Pearson entre 'Stress_Level' e as outras variáveis numéricas\n",
    "correlacoes = df_numerico.corr()['Work_Stress'].sort_values(ascending=False)\n",
    "\n",
    "# Exibindo as correlações\n",
    "print(correlacoes)\n"
   ]
  },
  {
   "cell_type": "code",
   "execution_count": null,
   "metadata": {
    "colab": {
     "base_uri": "https://localhost:8080/"
    },
    "executionInfo": {
     "elapsed": 32,
     "status": "ok",
     "timestamp": 1743299720563,
     "user": {
      "displayName": "Leandro Fernandes",
      "userId": "07469546857901237394"
     },
     "user_tz": 180
    },
    "id": "-LBF7dD2why6",
    "outputId": "6adf3e00-5967-406c-9888-3e5aa9eefac6"
   },
   "outputs": [
    {
     "name": "stdout",
     "output_type": "stream",
     "text": [
      "Life_Satisfaction_Score          1.000000\n",
      "Anxiety_Score                    0.073642\n",
      "Age                              0.041235\n",
      "Therapy                          0.037242\n",
      "Meditation                       0.010281\n",
      "Work_Stress                      0.010188\n",
      "Sleep_Hours                     -0.007837\n",
      "Loneliness_Score                -0.010132\n",
      "Physical_Activity_Hrs           -0.010340\n",
      "Self_Esteem_Score               -0.014871\n",
      "Social_Support_Score            -0.016505\n",
      "Chronic_Illnesses               -0.022367\n",
      "Depression_Score                -0.024433\n",
      "Stress_Level                    -0.047067\n",
      "Family_History_Mental_Illness   -0.057689\n",
      "Financial_Stress                -0.062243\n",
      "Name: Life_Satisfaction_Score, dtype: float64\n"
     ]
    }
   ],
   "source": [
    "# Selecionando apenas as colunas numéricas\n",
    "df_numerico = df.select_dtypes(include=['number'])\n",
    "\n",
    "# Calculando a correlação de Pearson entre 'Stress_Level' e as outras variáveis numéricas\n",
    "correlacoes = df_numerico.corr()['Life_Satisfaction_Score'].sort_values(ascending=False)\n",
    "\n",
    "# Exibindo as correlações\n",
    "print(correlacoes)\n"
   ]
  },
  {
   "cell_type": "code",
   "execution_count": null,
   "metadata": {
    "colab": {
     "base_uri": "https://localhost:8080/"
    },
    "executionInfo": {
     "elapsed": 19,
     "status": "ok",
     "timestamp": 1743299750245,
     "user": {
      "displayName": "Leandro Fernandes",
      "userId": "07469546857901237394"
     },
     "user_tz": 180
    },
    "id": "vRwKy-NRwt5W",
    "outputId": "f49addc7-c995-4172-ea6b-1c15fbff428b"
   },
   "outputs": [
    {
     "name": "stdout",
     "output_type": "stream",
     "text": [
      "Financial_Stress                 1.000000\n",
      "Social_Support_Score             0.015591\n",
      "Therapy                          0.007023\n",
      "Physical_Activity_Hrs            0.006121\n",
      "Depression_Score                -0.006397\n",
      "Loneliness_Score                -0.006443\n",
      "Stress_Level                    -0.007481\n",
      "Anxiety_Score                   -0.016597\n",
      "Self_Esteem_Score               -0.017476\n",
      "Chronic_Illnesses               -0.020784\n",
      "Family_History_Mental_Illness   -0.021506\n",
      "Meditation                      -0.023921\n",
      "Sleep_Hours                     -0.026871\n",
      "Age                             -0.035204\n",
      "Life_Satisfaction_Score         -0.062243\n",
      "Work_Stress                     -0.071406\n",
      "Name: Financial_Stress, dtype: float64\n"
     ]
    }
   ],
   "source": [
    "# Selecionando apenas as colunas numéricas\n",
    "df_numerico = df.select_dtypes(include=['number'])\n",
    "\n",
    "# Calculando a correlação de Pearson entre 'Stress_Level' e as outras variáveis numéricas\n",
    "correlacoes = df_numerico.corr()['Financial_Stress'].sort_values(ascending=False)\n",
    "\n",
    "# Exibindo as correlações\n",
    "print(correlacoes)\n"
   ]
  },
  {
   "cell_type": "code",
   "execution_count": null,
   "metadata": {
    "colab": {
     "base_uri": "https://localhost:8080/"
    },
    "executionInfo": {
     "elapsed": 15,
     "status": "ok",
     "timestamp": 1743299797220,
     "user": {
      "displayName": "Leandro Fernandes",
      "userId": "07469546857901237394"
     },
     "user_tz": 180
    },
    "id": "FQLzfkuCw5jX",
    "outputId": "1929cf2c-f3f4-401a-8bf8-70ea05ea831c"
   },
   "outputs": [
    {
     "name": "stdout",
     "output_type": "stream",
     "text": [
      "Anxiety_Score                    1.000000\n",
      "Life_Satisfaction_Score          0.073642\n",
      "Therapy                          0.011274\n",
      "Sleep_Hours                      0.005220\n",
      "Chronic_Illnesses                0.005139\n",
      "Loneliness_Score                 0.000881\n",
      "Family_History_Mental_Illness    0.000442\n",
      "Physical_Activity_Hrs            0.000385\n",
      "Work_Stress                     -0.002243\n",
      "Depression_Score                -0.011553\n",
      "Stress_Level                    -0.015035\n",
      "Financial_Stress                -0.016597\n",
      "Age                             -0.019641\n",
      "Meditation                      -0.023364\n",
      "Social_Support_Score            -0.030583\n",
      "Self_Esteem_Score               -0.042149\n",
      "Name: Anxiety_Score, dtype: float64\n"
     ]
    }
   ],
   "source": [
    "# Selecionando apenas as colunas numéricas\n",
    "df_numerico = df.select_dtypes(include=['number'])\n",
    "\n",
    "# Calculando a correlação de Pearson entre 'Stress_Level' e as outras variáveis numéricas\n",
    "correlacoes = df_numerico.corr()['Anxiety_Score'].sort_values(ascending=False)\n",
    "\n",
    "# Exibindo as correlações\n",
    "print(correlacoes)\n"
   ]
  },
  {
   "cell_type": "code",
   "execution_count": null,
   "metadata": {
    "colab": {
     "base_uri": "https://localhost:8080/"
    },
    "executionInfo": {
     "elapsed": 29,
     "status": "ok",
     "timestamp": 1743299828472,
     "user": {
      "displayName": "Leandro Fernandes",
      "userId": "07469546857901237394"
     },
     "user_tz": 180
    },
    "id": "c_44dKhQxCs2",
    "outputId": "e1623f70-66e5-494f-970e-35d8452238c3"
   },
   "outputs": [
    {
     "name": "stdout",
     "output_type": "stream",
     "text": [
      "Depression_Score                 1.000000\n",
      "Family_History_Mental_Illness    0.080849\n",
      "Chronic_Illnesses                0.027615\n",
      "Social_Support_Score             0.017442\n",
      "Sleep_Hours                      0.005351\n",
      "Physical_Activity_Hrs           -0.000541\n",
      "Therapy                         -0.000687\n",
      "Work_Stress                     -0.004496\n",
      "Financial_Stress                -0.006397\n",
      "Meditation                      -0.007533\n",
      "Age                             -0.009692\n",
      "Anxiety_Score                   -0.011553\n",
      "Stress_Level                    -0.013922\n",
      "Life_Satisfaction_Score         -0.024433\n",
      "Self_Esteem_Score               -0.040272\n",
      "Loneliness_Score                -0.050192\n",
      "Name: Depression_Score, dtype: float64\n"
     ]
    }
   ],
   "source": [
    "# Selecionando apenas as colunas numéricas\n",
    "df_numerico = df.select_dtypes(include=['number'])\n",
    "\n",
    "# Calculando a correlação de Pearson entre 'Stress_Level' e as outras variáveis numéricas\n",
    "correlacoes = df_numerico.corr()['Depression_Score'].sort_values(ascending=False)\n",
    "\n",
    "# Exibindo as correlações\n",
    "print(correlacoes)"
   ]
  },
  {
   "cell_type": "code",
   "execution_count": null,
   "metadata": {
    "colab": {
     "base_uri": "https://localhost:8080/"
    },
    "executionInfo": {
     "elapsed": 27,
     "status": "ok",
     "timestamp": 1743343208784,
     "user": {
      "displayName": "Leandro Fernandes",
      "userId": "07469546857901237394"
     },
     "user_tz": 180
    },
    "id": "HQTYDlUlWbCH",
    "outputId": "b1dcd399-1d37-4b75-a077-2fb0b5c4c442"
   },
   "outputs": [
    {
     "name": "stdout",
     "output_type": "stream",
     "text": [
      "Loneliness_Score                 1.000000\n",
      "Work_Stress                      0.058510\n",
      "Age                              0.035194\n",
      "Self_Esteem_Score                0.023372\n",
      "Social_Support_Score             0.016255\n",
      "Anxiety_Score                    0.000881\n",
      "Family_History_Mental_Illness    0.000417\n",
      "Physical_Activity_Hrs           -0.002586\n",
      "Sleep_Hours                     -0.005295\n",
      "Financial_Stress                -0.006443\n",
      "Chronic_Illnesses               -0.009461\n",
      "Life_Satisfaction_Score         -0.010132\n",
      "Stress_Level                    -0.012158\n",
      "Therapy                         -0.016517\n",
      "Meditation                      -0.036112\n",
      "Depression_Score                -0.050192\n",
      "Name: Loneliness_Score, dtype: float64\n"
     ]
    }
   ],
   "source": [
    "# Selecionando apenas as colunas numéricas\n",
    "df_numerico = df.select_dtypes(include=['number'])\n",
    "\n",
    "# Calculando a correlação de Pearson entre 'Stress_Level' e as outras variáveis numéricas\n",
    "correlacoes = df_numerico.corr()['Loneliness_Score'].sort_values(ascending=False)\n",
    "\n",
    "# Exibindo as correlações\n",
    "print(correlacoes)"
   ]
  },
  {
   "cell_type": "code",
   "execution_count": null,
   "metadata": {
    "colab": {
     "base_uri": "https://localhost:8080/"
    },
    "executionInfo": {
     "elapsed": 41,
     "status": "ok",
     "timestamp": 1743348459868,
     "user": {
      "displayName": "Leandro Fernandes",
      "userId": "07469546857901237394"
     },
     "user_tz": 180
    },
    "id": "1n28Kxk5WzYY",
    "outputId": "44142943-7fa3-4c7f-c5b7-588046ee52d7"
   },
   "outputs": [
    {
     "name": "stdout",
     "output_type": "stream",
     "text": [
      "Self_Esteem_Score                1.000000\n",
      "Work_Stress                      0.035870\n",
      "Family_History_Mental_Illness    0.029780\n",
      "Loneliness_Score                 0.023372\n",
      "Sleep_Hours                      0.012843\n",
      "Stress_Level                     0.011803\n",
      "Social_Support_Score             0.010292\n",
      "Meditation                       0.010129\n",
      "Chronic_Illnesses               -0.000046\n",
      "Life_Satisfaction_Score         -0.014871\n",
      "Therapy                         -0.015160\n",
      "Financial_Stress                -0.017476\n",
      "Age                             -0.019461\n",
      "Depression_Score                -0.040272\n",
      "Anxiety_Score                   -0.042149\n",
      "Physical_Activity_Hrs           -0.062813\n",
      "Name: Self_Esteem_Score, dtype: float64\n"
     ]
    }
   ],
   "source": [
    "\n",
    "# Selecionando apenas as colunas numéricas\n",
    "df_numerico = df.select_dtypes(include=['number'])\n",
    "\n",
    "# Calculando a correlação de Pearson entre 'Self_Esteem_Score' e as outras variáveis numéricas\n",
    "correlacoes = df_numerico.corr()['Self_Esteem_Score'].sort_values(ascending=False)\n",
    "\n",
    "# Exibindo as correlações\n",
    "print(correlacoes)\n",
    "\n",
    "\n"
   ]
  },
  {
   "cell_type": "markdown",
   "metadata": {
    "id": "WuO8TgsjX0PN"
   },
   "source": [
    "* Nâo tem nenhuma coluna que tem ma correlação forte com a outra"
   ]
  },
  {
   "cell_type": "code",
   "execution_count": 86,
   "metadata": {
    "colab": {
     "base_uri": "https://localhost:8080/"
    },
    "executionInfo": {
     "elapsed": 20,
     "status": "ok",
     "timestamp": 1743365967805,
     "user": {
      "displayName": "Leandro Fernandes",
      "userId": "07469546857901237394"
     },
     "user_tz": 180
    },
    "id": "orCF-PGStSwU",
    "outputId": "59e43688-8cdf-4e6a-9877-33e8c4bf9113"
   },
   "outputs": [
    {
     "name": "stdout",
     "output_type": "stream",
     "text": [
      "Age                              1.000000\n",
      "Social_Support_Score             0.056624\n",
      "Life_Satisfaction_Score          0.041235\n",
      "Loneliness_Score                 0.035194\n",
      "Therapy                          0.034338\n",
      "Work_Stress                      0.016585\n",
      "Physical_Activity_Hrs            0.012009\n",
      "Meditation                       0.009201\n",
      "Stress_Level                     0.003409\n",
      "Chronic_Illnesses                0.003215\n",
      "Family_History_Mental_Illness   -0.004491\n",
      "Depression_Score                -0.009692\n",
      "Sleep_Hours                     -0.010715\n",
      "Self_Esteem_Score               -0.019461\n",
      "Anxiety_Score                   -0.019641\n",
      "Financial_Stress                -0.035204\n",
      "Name: Age, dtype: float64\n"
     ]
    }
   ],
   "source": [
    "# Selecionando apenas as colunas numéricas\n",
    "df_numerico = df.select_dtypes(include=['number'])\n",
    "\n",
    "# Calculando a correlação de Pearson entre 'Self_Esteem_Score' e as outras variáveis numéricas\n",
    "correlacoes = df_numerico.corr()['Age'].sort_values(ascending=False)\n",
    "\n",
    "# Exibindo as correlações\n",
    "print(correlacoes)\n"
   ]
  },
  {
   "cell_type": "code",
   "execution_count": null,
   "metadata": {
    "colab": {
     "base_uri": "https://localhost:8080/"
    },
    "executionInfo": {
     "elapsed": 48,
     "status": "ok",
     "timestamp": 1743349564745,
     "user": {
      "displayName": "Leandro Fernandes",
      "userId": "07469546857901237394"
     },
     "user_tz": 180
    },
    "id": "q2xK8pJLXrCM",
    "outputId": "f70ddbbe-b043-457c-c615-be4425d78353"
   },
   "outputs": [
    {
     "name": "stdout",
     "output_type": "stream",
     "text": [
      "Variância do  Depresion_Score: 31.702999305555483\n"
     ]
    }
   ],
   "source": [
    "# Avaliar o modelo\n",
    "variance_Limite = np.var(df['Depression_Score'])\n",
    "print(f'Variância do  Depresion_Score: {variance_Limite}')"
   ]
  },
  {
   "cell_type": "code",
   "execution_count": null,
   "metadata": {
    "colab": {
     "base_uri": "https://localhost:8080/",
     "height": 668
    },
    "executionInfo": {
     "elapsed": 527,
     "status": "ok",
     "timestamp": 1743349881023,
     "user": {
      "displayName": "Leandro Fernandes",
      "userId": "07469546857901237394"
     },
     "user_tz": 180
    },
    "id": "dU5LUsJWXq_o",
    "outputId": "2be47ef6-90f3-45a9-ddbd-4311a6cb0317"
   },
   "outputs": [
    {
     "data": {
      "image/png": "[encoded data removed]",
      "text/plain": [
       "<Figure size 640x480 with 1 Axes>"
      ]
     },
     "metadata": {},
     "output_type": "display_data"
    }
   ],
   "source": [
    "# Criando o boxplot e configurando a aparência dos outliers\n",
    "sns.boxplot(data=df, flierprops=dict(marker='o', markersize=8))\n",
    "plt.xticks(rotation=90)\n",
    "plt.title('Boxplot com Outliers')\n",
    "plt.show()"
   ]
  },
  {
   "cell_type": "code",
   "execution_count": 59,
   "metadata": {
    "colab": {
     "base_uri": "https://localhost:8080/",
     "height": 575
    },
    "executionInfo": {
     "elapsed": 671,
     "status": "ok",
     "timestamp": 1743362403811,
     "user": {
      "displayName": "Leandro Fernandes",
      "userId": "07469546857901237394"
     },
     "user_tz": 180
    },
    "id": "yGxOPz9TXq6J",
    "outputId": "79f537be-95b2-4a94-e622-f65d03351443"
   },
   "outputs": [
    {
     "data": {
      "image/png": "[encoded data removed]",
      "text/plain": [
       "<Figure size 1000x600 with 1 Axes>"
      ]
     },
     "metadata": {},
     "output_type": "display_data"
    }
   ],
   "source": [
    "import matplotlib.pyplot as plt\n",
    "import seaborn as sns\n",
    "import numpy as np\n",
    "\n",
    "# Ajuste os bins para intervalos de 1 hora\n",
    "plt.figure(figsize=(10, 6))\n",
    "sns.histplot(df['Sleep_Hours'], bins=np.arange(0, 14, 1), kde=True, color='skyblue')  # Agora, cada barra terá 1 hora\n",
    "\n",
    "# Customize the plot\n",
    "plt.title('Distribution of Sleep Hours', fontsize=16)\n",
    "plt.xlabel('Sleep Hours', fontsize=12)\n",
    "plt.ylabel('Frequency', fontsize=12)\n",
    "\n",
    "# Adicionar uma linha vertical na média das horas de sono\n",
    "mean_sleep = df['Sleep_Hours'].mean()\n",
    "plt.axvline(mean_sleep, color='red', linestyle='--', linewidth=2, label=f'Mean Sleep: {mean_sleep:.2f}')\n",
    "\n",
    "# Ajuste as marcações do eixo X para mostrar de 1 em 1\n",
    "plt.xticks(np.arange(0, 14, 1))\n",
    "\n",
    "\n",
    "# Ajuste as marcações do eixo y para mostrar de 20\n",
    "plt.yticks(np.arange(0, 340, 20))\n",
    "\n",
    "# Mostrar o gráfico com a legenda\n",
    "plt.legend()\n",
    "plt.show()\n"
   ]
  },
  {
   "cell_type": "code",
   "execution_count": 42,
   "metadata": {
    "colab": {
     "base_uri": "https://localhost:8080/"
    },
    "executionInfo": {
     "elapsed": 51,
     "status": "ok",
     "timestamp": 1743362074975,
     "user": {
      "displayName": "Leandro Fernandes",
      "userId": "07469546857901237394"
     },
     "user_tz": 180
    },
    "id": "icxKAivPXq3O",
    "outputId": "875dabe0-3b43-4341-fb06-077c4f875da4"
   },
   "outputs": [
    {
     "data": {
      "text/plain": [
       "245"
      ]
     },
     "execution_count": 42,
     "metadata": {},
     "output_type": "execute_result"
    }
   ],
   "source": [
    "df[(df['Sleep_Hours'] >= 7) & (df['Sleep_Hours'] < 8)].shape[0]"
   ]
  },
  {
   "cell_type": "code",
   "execution_count": 55,
   "metadata": {
    "colab": {
     "base_uri": "https://localhost:8080/"
    },
    "executionInfo": {
     "elapsed": 41,
     "status": "ok",
     "timestamp": 1743362232146,
     "user": {
      "displayName": "Leandro Fernandes",
      "userId": "07469546857901237394"
     },
     "user_tz": 180
    },
    "id": "2g-ktgnPXq0n",
    "outputId": "2aa7b88e-10b1-4003-9cee-726ff1e44fae"
   },
   "outputs": [
    {
     "data": {
      "text/plain": [
       "0"
      ]
     },
     "execution_count": 55,
     "metadata": {},
     "output_type": "execute_result"
    }
   ],
   "source": [
    "df[(df['Sleep_Hours'] >12)].shape[0]"
   ]
  },
  {
   "cell_type": "code",
   "execution_count": 83,
   "metadata": {
    "colab": {
     "base_uri": "https://localhost:8080/",
     "height": 810
    },
    "executionInfo": {
     "elapsed": 1202,
     "status": "ok",
     "timestamp": 1743365600274,
     "user": {
      "displayName": "Leandro Fernandes",
      "userId": "07469546857901237394"
     },
     "user_tz": 180
    },
    "id": "JVINbVvlpmZG",
    "outputId": "6197d44b-952a-491d-ec59-0817cf847e2a"
   },
   "outputs": [
    {
     "data": {
      "image/png": "[encoded data removed]",
      "text/plain": [
       "<Figure size 1500x900 with 1 Axes>"
      ]
     },
     "metadata": {},
     "output_type": "display_data"
    }
   ],
   "source": [
    "\n",
    "import matplotlib.pyplot as plt\n",
    "\n",
    "plt.figure(figsize=(15,9))\n",
    "df['Age'].value_counts().sort_index().plot(kind='bar', color='green')  # Ordena por idade\n",
    "plt.title(\"Number of people por idade\", fontsize=16)\n",
    "plt.xlabel(\"Age\", fontsize=12)\n",
    "plt.ylabel(\"Number of people\", fontsize=12)\n",
    "plt.show()\n"
   ]
  },
  {
   "cell_type": "code",
   "execution_count": 72,
   "metadata": {
    "colab": {
     "base_uri": "https://localhost:8080/"
    },
    "executionInfo": {
     "elapsed": 27,
     "status": "ok",
     "timestamp": 1743364847181,
     "user": {
      "displayName": "Leandro Fernandes",
      "userId": "07469546857901237394"
     },
     "user_tz": 180
    },
    "id": "1bSkElavoYmm",
    "outputId": "cf67e183-9d4e-4aaa-a1b7-740a30bf3404"
   },
   "outputs": [
    {
     "name": "stdout",
     "output_type": "stream",
     "text": [
      "Age\n",
      "18    11.0\n",
      "19     9.0\n",
      "20    11.0\n",
      "21    11.0\n",
      "22    12.0\n",
      "23    12.0\n",
      "24    13.0\n",
      "25    10.0\n",
      "26    11.0\n",
      "27    11.0\n",
      "28    12.0\n",
      "29    10.0\n",
      "30    10.0\n",
      "31    10.0\n",
      "32    11.0\n",
      "33    11.0\n",
      "34    12.0\n",
      "35    10.0\n",
      "36    12.0\n",
      "37    10.0\n",
      "38     9.0\n",
      "39    10.0\n",
      "40    12.0\n",
      "41    10.0\n",
      "42    11.0\n",
      "43     9.0\n",
      "44    11.0\n",
      "45    13.0\n",
      "46    12.0\n",
      "47    10.0\n",
      "48    11.0\n",
      "49    10.0\n",
      "50    10.0\n",
      "51     7.0\n",
      "52    10.0\n",
      "53     9.0\n",
      "54    10.0\n",
      "55     9.0\n",
      "56    12.0\n",
      "57    12.0\n",
      "58    11.0\n",
      "59    11.0\n",
      "60    11.0\n",
      "61    13.0\n",
      "62    12.0\n",
      "63    10.0\n",
      "64     9.0\n",
      "65    10.0\n",
      "66    11.0\n",
      "67    12.0\n",
      "68     9.0\n",
      "69    13.0\n",
      "70    10.0\n",
      "71     9.0\n",
      "72    13.0\n",
      "73     8.0\n",
      "74    12.0\n",
      "Name: Depression_Score, dtype: float64\n"
     ]
    }
   ],
   "source": [
    "depresaoMediaIdade = df['Depression_Score'].groupby(df['Age']).mean().round()\n",
    "print(depresaoMediaIdade)\n"
   ]
  },
  {
   "cell_type": "code",
   "execution_count": 73,
   "metadata": {
    "colab": {
     "base_uri": "https://localhost:8080/",
     "height": 810
    },
    "executionInfo": {
     "elapsed": 1371,
     "status": "ok",
     "timestamp": 1743364863714,
     "user": {
      "displayName": "Leandro Fernandes",
      "userId": "07469546857901237394"
     },
     "user_tz": 180
    },
    "id": "nHMauZ__Xqxr",
    "outputId": "558f7a77-6c5c-4d58-e0db-b24aa196a613"
   },
   "outputs": [
    {
     "data": {
      "image/png": "[encoded data removed]",
      "text/plain": [
       "<Figure size 1500x900 with 1 Axes>"
      ]
     },
     "metadata": {},
     "output_type": "display_data"
    }
   ],
   "source": [
    "\n",
    "import matplotlib.pyplot as plt\n",
    "\n",
    "plt.figure(figsize=(15,9))\n",
    "depresaoMediaIdade.plot(kind='bar',color='green')\n",
    "plt.title(\"media de  Depression_Score por idade\", fontsize=16)\n",
    "plt.xlabel(\"Age\", fontsize=12)\n",
    "plt.ylabel(\"Depression_Score\", fontsize=12\n",
    "plt.show()\n"
   ]
  },
  {
   "cell_type": "code",
   "execution_count": 66,
   "metadata": {
    "colab": {
     "base_uri": "https://localhost:8080/"
    },
    "executionInfo": {
     "elapsed": 55,
     "status": "ok",
     "timestamp": 1743364350557,
     "user": {
      "displayName": "Leandro Fernandes",
      "userId": "07469546857901237394"
     },
     "user_tz": 180
    },
    "id": "_zH1D6CqXqvD",
    "outputId": "7897f56b-8c04-4444-edf4-efc85fdb7b3a"
   },
   "outputs": [
    {
     "data": {
      "text/plain": [
       "18"
      ]
     },
     "execution_count": 66,
     "metadata": {},
     "output_type": "execute_result"
    }
   ],
   "source": [
    "df['Age'].min()"
   ]
  },
  {
   "cell_type": "code",
   "execution_count": 76,
   "metadata": {
    "colab": {
     "base_uri": "https://localhost:8080/"
    },
    "executionInfo": {
     "elapsed": 48,
     "status": "ok",
     "timestamp": 1743365139552,
     "user": {
      "displayName": "Leandro Fernandes",
      "userId": "07469546857901237394"
     },
     "user_tz": 180
    },
    "id": "l8jQ9Ckfpsfb",
    "outputId": "e4dd2ac1-37e5-49d9-917c-38c5316d7708"
   },
   "outputs": [
    {
     "name": "stdout",
     "output_type": "stream",
     "text": [
      "Age\n",
      "18    11.0\n",
      "19     9.0\n",
      "20    11.0\n",
      "21    11.0\n",
      "22    12.0\n",
      "23    12.0\n",
      "24    13.0\n",
      "25    10.0\n",
      "26    11.0\n",
      "27    11.0\n",
      "28    12.0\n",
      "29    10.0\n",
      "30    10.0\n",
      "31    10.0\n",
      "32    11.0\n",
      "33    11.0\n",
      "34    12.0\n",
      "35    10.0\n",
      "36    12.0\n",
      "37    10.0\n",
      "38     9.0\n",
      "39    10.0\n",
      "40    12.0\n",
      "41    10.0\n",
      "42    11.0\n",
      "43     9.0\n",
      "44    11.0\n",
      "45    13.0\n",
      "46    12.0\n",
      "47    10.0\n",
      "48    11.0\n",
      "49    10.0\n",
      "50    10.0\n",
      "51     7.0\n",
      "52    10.0\n",
      "53     9.0\n",
      "54    10.0\n",
      "55     9.0\n",
      "56    12.0\n",
      "57    12.0\n",
      "58    11.0\n",
      "59    11.0\n",
      "60    11.0\n",
      "61    13.0\n",
      "62    12.0\n",
      "63    10.0\n",
      "64     9.0\n",
      "65    10.0\n",
      "66    11.0\n",
      "67    12.0\n",
      "68     9.0\n",
      "69    13.0\n",
      "70    10.0\n",
      "71     9.0\n",
      "72    13.0\n",
      "73     8.0\n",
      "74    12.0\n",
      "Name: Depression_Score, dtype: float64\n"
     ]
    }
   ],
   "source": [
    "AnsiedadeMediaIdade = df['Anxiety_Score'].groupby(df['Age']).mean().round()\n",
    "print(depresaoMediaIdade)"
   ]
  },
  {
   "cell_type": "code",
   "execution_count": 77,
   "metadata": {
    "colab": {
     "base_uri": "https://localhost:8080/",
     "height": 810
    },
    "executionInfo": {
     "elapsed": 746,
     "status": "ok",
     "timestamp": 1743365146112,
     "user": {
      "displayName": "Leandro Fernandes",
      "userId": "07469546857901237394"
     },
     "user_tz": 180
    },
    "id": "KSkCJomgXqrk",
    "outputId": "2b0d12fc-3f11-42dc-acc9-ecf7ea256c02"
   },
   "outputs": [
    {
     "data": {
      "image/png": "[encoded data removed]",
      "text/plain": [
       "<Figure size 1500x900 with 1 Axes>"
      ]
     },
     "metadata": {},
     "output_type": "display_data"
    }
   ],
   "source": [
    "\n",
    "import matplotlib.pyplot as plt\n",
    "\n",
    "plt.figure(figsize=(15,9))\n",
    "AnsiedadeMediaIdade.plot(kind='bar',color='green')\n",
    "plt.title(\"media de Anxiety_Score por idade\", fontsize=16)\n",
    "plt.xlabel(\"Age\", fontsize=12)\n",
    "plt.ylabel(\"Anxiety_Score\", fontsize=12)\n",
    "plt.show()"
   ]
  },
  {
   "cell_type": "code",
   "execution_count": 7,
   "metadata": {
    "colab": {
     "base_uri": "https://localhost:8080/",
     "height": 810
    },
    "executionInfo": {
     "elapsed": 1364,
     "status": "ok",
     "timestamp": 1743383399824,
     "user": {
      "displayName": "Leandro Fernandes",
      "userId": "07469546857901237394"
     },
     "user_tz": 180
    },
    "id": "llZjth_bXqhs",
    "outputId": "c12b68a0-581e-41ad-c827-176689393bea"
   },
   "outputs": [
    {
     "data": {
      "image/png": "[encoded data removed]",
      "text/plain": [
       "<Figure size 1500x900 with 1 Axes>"
      ]
     },
     "metadata": {},
     "output_type": "display_data"
    }
   ],
   "source": [
    "plt.figure(figsize=(15,9))\n",
    "df.groupby('Age')['Physical_Activity_Hrs'].mean().plot(kind='bar',color='green')\n",
    "plt.title(\"average hours of physical activity by age\", fontsize=16)\n",
    "plt.xlabel(\"Age\", fontsize=12)\n",
    "plt.ylabel(\"Physical_Activity_Hrs\", fontsize=12)\n",
    "plt.show()"
   ]
  },
  {
   "cell_type": "code",
   "execution_count": 84,
   "metadata": {
    "colab": {
     "base_uri": "https://localhost:8080/",
     "height": 810
    },
    "executionInfo": {
     "elapsed": 748,
     "status": "ok",
     "timestamp": 1743365721945,
     "user": {
      "displayName": "Leandro Fernandes",
      "userId": "07469546857901237394"
     },
     "user_tz": 180
    },
    "id": "9KVViTMbXqZd",
    "outputId": "763081ec-412b-4706-973f-ebe41b723a72"
   },
   "outputs": [
    {
     "data": {
      "image/png": "[encoded data removed]",
      "text/plain": [
       "<Figure size 1500x900 with 1 Axes>"
      ]
     },
     "metadata": {},
     "output_type": "display_data"
    }
   ],
   "source": [
    "import matplotlib.pyplot as plt\n",
    "\n",
    "# Contagem de pessoas com doenças crônicas por idade\n",
    "plt.figure(figsize=(15,9))\n",
    "\n",
    "# Assumindo que a coluna 'Chronic_Illnesses' é binária (0 ou 1)\n",
    "df[df['Chronic_Illnesses'] == 1]['Age'].value_counts().sort_index().plot(kind='bar', color='blue')\n",
    "\n",
    "# Títulos e rótulos\n",
    "plt.title(\"Number of people with Chronic Illnesses by Age\", fontsize=16)\n",
    "plt.xlabel(\"Age\", fontsize=12)\n",
    "plt.ylabel(\"Number of people with Chronic Illnesses\", fontsize=12)\n",
    "\n",
    "plt.show()\n"
   ]
  }
 ],
 "metadata": {
  "colab": {
   "authorship_tag": "ABX9TyMOsZfihsPC46ebXMqbFZTx",
   "provenance": []
  },
  "kernelspec": {
   "display_name": "Python 3",
   "name": "python3"
  },
  "language_info": {
   "codemirror_mode": {
    "name": "ipython",
    "version": 3
   },
   "file_extension": ".py",
   "mimetype": "text/x-python",
   "name": "python",
   "nbconvert_exporter": "python",
   "pygments_lexer": "ipython3",
   "version": "3.13.2"
  }
 },
 "nbformat": 4,
 "nbformat_minor": 0
}
